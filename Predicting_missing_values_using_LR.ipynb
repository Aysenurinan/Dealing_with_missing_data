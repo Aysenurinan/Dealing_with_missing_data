{
 "cells": [
  {
   "cell_type": "code",
   "execution_count": 1,
   "metadata": {},
   "outputs": [],
   "source": [
    "%matplotlib inline\n",
    "import numpy as np\n",
    "import pandas as pd\n",
    "import matplotlib\n",
    "import matplotlib.pyplot as plt\n",
    "import scipy.stats as stats\n",
    "matplotlib.style.use('ggplot')\n",
    "from sklearn import datasets, linear_model\n"
   ]
  },
  {
   "cell_type": "code",
   "execution_count": 2,
   "metadata": {},
   "outputs": [
    {
     "name": "stdout",
     "output_type": "stream",
     "text": [
      "(399, 9)\n"
     ]
    },
    {
     "data": {
      "text/html": [
       "<div>\n",
       "<style scoped>\n",
       "    .dataframe tbody tr th:only-of-type {\n",
       "        vertical-align: middle;\n",
       "    }\n",
       "\n",
       "    .dataframe tbody tr th {\n",
       "        vertical-align: top;\n",
       "    }\n",
       "\n",
       "    .dataframe thead th {\n",
       "        text-align: right;\n",
       "    }\n",
       "</style>\n",
       "<table border=\"1\" class=\"dataframe\">\n",
       "  <thead>\n",
       "    <tr style=\"text-align: right;\">\n",
       "      <th></th>\n",
       "      <th>mpg</th>\n",
       "      <th>cylinders</th>\n",
       "      <th>displacement</th>\n",
       "      <th>horsepower</th>\n",
       "      <th>weight</th>\n",
       "      <th>acceleration</th>\n",
       "      <th>year</th>\n",
       "      <th>origin</th>\n",
       "      <th>name</th>\n",
       "    </tr>\n",
       "  </thead>\n",
       "  <tbody>\n",
       "    <tr>\n",
       "      <th>0</th>\n",
       "      <td>Column1</td>\n",
       "      <td>Column2</td>\n",
       "      <td>Column3</td>\n",
       "      <td>Column4</td>\n",
       "      <td>Column5</td>\n",
       "      <td>Column6</td>\n",
       "      <td>Column7</td>\n",
       "      <td>Column8</td>\n",
       "      <td>Column9</td>\n",
       "    </tr>\n",
       "    <tr>\n",
       "      <th>1</th>\n",
       "      <td>18</td>\n",
       "      <td>8</td>\n",
       "      <td>307</td>\n",
       "      <td>130.0</td>\n",
       "      <td>3504</td>\n",
       "      <td>12</td>\n",
       "      <td>70</td>\n",
       "      <td>1</td>\n",
       "      <td>chevrolet chevelle malibu</td>\n",
       "    </tr>\n",
       "    <tr>\n",
       "      <th>2</th>\n",
       "      <td>15</td>\n",
       "      <td>8</td>\n",
       "      <td>350</td>\n",
       "      <td>165.0</td>\n",
       "      <td>3693</td>\n",
       "      <td>11.5</td>\n",
       "      <td>70</td>\n",
       "      <td>1</td>\n",
       "      <td>buick skylark 320</td>\n",
       "    </tr>\n",
       "    <tr>\n",
       "      <th>3</th>\n",
       "      <td>18</td>\n",
       "      <td>8</td>\n",
       "      <td>318</td>\n",
       "      <td>150.0</td>\n",
       "      <td>3436</td>\n",
       "      <td>11</td>\n",
       "      <td>70</td>\n",
       "      <td>1</td>\n",
       "      <td>plymouth satellite</td>\n",
       "    </tr>\n",
       "    <tr>\n",
       "      <th>4</th>\n",
       "      <td>16</td>\n",
       "      <td>8</td>\n",
       "      <td>304</td>\n",
       "      <td>150.0</td>\n",
       "      <td>3433</td>\n",
       "      <td>12</td>\n",
       "      <td>70</td>\n",
       "      <td>1</td>\n",
       "      <td>amc rebel sst</td>\n",
       "    </tr>\n",
       "  </tbody>\n",
       "</table>\n",
       "</div>"
      ],
      "text/plain": [
       "       mpg cylinders displacement horsepower   weight acceleration     year  \\\n",
       "0  Column1   Column2      Column3    Column4  Column5      Column6  Column7   \n",
       "1       18         8          307      130.0     3504           12       70   \n",
       "2       15         8          350      165.0     3693         11.5       70   \n",
       "3       18         8          318      150.0     3436           11       70   \n",
       "4       16         8          304      150.0     3433           12       70   \n",
       "\n",
       "    origin                       name  \n",
       "0  Column8                    Column9  \n",
       "1        1  chevrolet chevelle malibu  \n",
       "2        1          buick skylark 320  \n",
       "3        1         plymouth satellite  \n",
       "4        1              amc rebel sst  "
      ]
     },
     "execution_count": 2,
     "metadata": {},
     "output_type": "execute_result"
    }
   ],
   "source": [
    "filename = \"new_auto_mpg.csv\"\n",
    "column_names= ['mpg', 'cylinders', 'displacement', 'horsepower', 'weight', 'acceleration', 'year', 'origin', 'name']\n",
    "df = pd.read_csv (filename, names = column_names)\n",
    "\n",
    "print (df.shape)\n",
    "df.head(5)"
   ]
  },
  {
   "cell_type": "code",
   "execution_count": 3,
   "metadata": {},
   "outputs": [
    {
     "data": {
      "text/html": [
       "<div>\n",
       "<style scoped>\n",
       "    .dataframe tbody tr th:only-of-type {\n",
       "        vertical-align: middle;\n",
       "    }\n",
       "\n",
       "    .dataframe tbody tr th {\n",
       "        vertical-align: top;\n",
       "    }\n",
       "\n",
       "    .dataframe thead th {\n",
       "        text-align: right;\n",
       "    }\n",
       "</style>\n",
       "<table border=\"1\" class=\"dataframe\">\n",
       "  <thead>\n",
       "    <tr style=\"text-align: right;\">\n",
       "      <th></th>\n",
       "      <th>mpg</th>\n",
       "      <th>cylinders</th>\n",
       "      <th>displacement</th>\n",
       "      <th>horsepower</th>\n",
       "      <th>weight</th>\n",
       "      <th>acceleration</th>\n",
       "      <th>year</th>\n",
       "      <th>origin</th>\n",
       "      <th>name</th>\n",
       "    </tr>\n",
       "  </thead>\n",
       "  <tbody>\n",
       "    <tr>\n",
       "      <th>1</th>\n",
       "      <td>18</td>\n",
       "      <td>8</td>\n",
       "      <td>307</td>\n",
       "      <td>130.0</td>\n",
       "      <td>3504</td>\n",
       "      <td>12</td>\n",
       "      <td>70</td>\n",
       "      <td>1</td>\n",
       "      <td>chevrolet chevelle malibu</td>\n",
       "    </tr>\n",
       "    <tr>\n",
       "      <th>2</th>\n",
       "      <td>15</td>\n",
       "      <td>8</td>\n",
       "      <td>350</td>\n",
       "      <td>165.0</td>\n",
       "      <td>3693</td>\n",
       "      <td>11.5</td>\n",
       "      <td>70</td>\n",
       "      <td>1</td>\n",
       "      <td>buick skylark 320</td>\n",
       "    </tr>\n",
       "    <tr>\n",
       "      <th>3</th>\n",
       "      <td>18</td>\n",
       "      <td>8</td>\n",
       "      <td>318</td>\n",
       "      <td>150.0</td>\n",
       "      <td>3436</td>\n",
       "      <td>11</td>\n",
       "      <td>70</td>\n",
       "      <td>1</td>\n",
       "      <td>plymouth satellite</td>\n",
       "    </tr>\n",
       "    <tr>\n",
       "      <th>4</th>\n",
       "      <td>16</td>\n",
       "      <td>8</td>\n",
       "      <td>304</td>\n",
       "      <td>150.0</td>\n",
       "      <td>3433</td>\n",
       "      <td>12</td>\n",
       "      <td>70</td>\n",
       "      <td>1</td>\n",
       "      <td>amc rebel sst</td>\n",
       "    </tr>\n",
       "    <tr>\n",
       "      <th>5</th>\n",
       "      <td>17</td>\n",
       "      <td>8</td>\n",
       "      <td>302</td>\n",
       "      <td>140.0</td>\n",
       "      <td>3449</td>\n",
       "      <td>10.5</td>\n",
       "      <td>70</td>\n",
       "      <td>1</td>\n",
       "      <td>ford torino</td>\n",
       "    </tr>\n",
       "  </tbody>\n",
       "</table>\n",
       "</div>"
      ],
      "text/plain": [
       "  mpg cylinders displacement horsepower weight acceleration year origin  \\\n",
       "1  18         8          307      130.0   3504           12   70      1   \n",
       "2  15         8          350      165.0   3693         11.5   70      1   \n",
       "3  18         8          318      150.0   3436           11   70      1   \n",
       "4  16         8          304      150.0   3433           12   70      1   \n",
       "5  17         8          302      140.0   3449         10.5   70      1   \n",
       "\n",
       "                        name  \n",
       "1  chevrolet chevelle malibu  \n",
       "2          buick skylark 320  \n",
       "3         plymouth satellite  \n",
       "4              amc rebel sst  \n",
       "5                ford torino  "
      ]
     },
     "execution_count": 3,
     "metadata": {},
     "output_type": "execute_result"
    }
   ],
   "source": [
    "df.drop(df.head(1).index, inplace=True)\n",
    "df.head(5)"
   ]
  },
  {
   "cell_type": "code",
   "execution_count": 4,
   "metadata": {},
   "outputs": [
    {
     "data": {
      "text/html": [
       "<div>\n",
       "<style scoped>\n",
       "    .dataframe tbody tr th:only-of-type {\n",
       "        vertical-align: middle;\n",
       "    }\n",
       "\n",
       "    .dataframe tbody tr th {\n",
       "        vertical-align: top;\n",
       "    }\n",
       "\n",
       "    .dataframe thead th {\n",
       "        text-align: right;\n",
       "    }\n",
       "</style>\n",
       "<table border=\"1\" class=\"dataframe\">\n",
       "  <thead>\n",
       "    <tr style=\"text-align: right;\">\n",
       "      <th></th>\n",
       "      <th>mpg</th>\n",
       "      <th>cylinders</th>\n",
       "      <th>displacement</th>\n",
       "      <th>horsepower</th>\n",
       "      <th>weight</th>\n",
       "      <th>acceleration</th>\n",
       "      <th>year</th>\n",
       "      <th>origin</th>\n",
       "      <th>name</th>\n",
       "    </tr>\n",
       "  </thead>\n",
       "  <tbody>\n",
       "    <tr>\n",
       "      <th>33</th>\n",
       "      <td>25</td>\n",
       "      <td>4</td>\n",
       "      <td>98</td>\n",
       "      <td>?</td>\n",
       "      <td>2046</td>\n",
       "      <td>19</td>\n",
       "      <td>71</td>\n",
       "      <td>1</td>\n",
       "      <td>ford pinto</td>\n",
       "    </tr>\n",
       "    <tr>\n",
       "      <th>127</th>\n",
       "      <td>21</td>\n",
       "      <td>6</td>\n",
       "      <td>200</td>\n",
       "      <td>?</td>\n",
       "      <td>2875</td>\n",
       "      <td>17</td>\n",
       "      <td>74</td>\n",
       "      <td>1</td>\n",
       "      <td>ford maverick</td>\n",
       "    </tr>\n",
       "    <tr>\n",
       "      <th>331</th>\n",
       "      <td>40.9</td>\n",
       "      <td>4</td>\n",
       "      <td>85</td>\n",
       "      <td>?</td>\n",
       "      <td>1835</td>\n",
       "      <td>17.3</td>\n",
       "      <td>80</td>\n",
       "      <td>2</td>\n",
       "      <td>renault lecar deluxe</td>\n",
       "    </tr>\n",
       "    <tr>\n",
       "      <th>337</th>\n",
       "      <td>23.6</td>\n",
       "      <td>4</td>\n",
       "      <td>140</td>\n",
       "      <td>?</td>\n",
       "      <td>2905</td>\n",
       "      <td>14.3</td>\n",
       "      <td>80</td>\n",
       "      <td>1</td>\n",
       "      <td>ford mustang cobra</td>\n",
       "    </tr>\n",
       "    <tr>\n",
       "      <th>355</th>\n",
       "      <td>34.5</td>\n",
       "      <td>4</td>\n",
       "      <td>100</td>\n",
       "      <td>?</td>\n",
       "      <td>2320</td>\n",
       "      <td>15.8</td>\n",
       "      <td>81</td>\n",
       "      <td>2</td>\n",
       "      <td>renault 18i</td>\n",
       "    </tr>\n",
       "    <tr>\n",
       "      <th>375</th>\n",
       "      <td>23</td>\n",
       "      <td>4</td>\n",
       "      <td>151</td>\n",
       "      <td>?</td>\n",
       "      <td>3035</td>\n",
       "      <td>20.5</td>\n",
       "      <td>82</td>\n",
       "      <td>1</td>\n",
       "      <td>amc concord dl</td>\n",
       "    </tr>\n",
       "  </tbody>\n",
       "</table>\n",
       "</div>"
      ],
      "text/plain": [
       "      mpg cylinders displacement horsepower weight acceleration year origin  \\\n",
       "33     25         4           98          ?   2046           19   71      1   \n",
       "127    21         6          200          ?   2875           17   74      1   \n",
       "331  40.9         4           85          ?   1835         17.3   80      2   \n",
       "337  23.6         4          140          ?   2905         14.3   80      1   \n",
       "355  34.5         4          100          ?   2320         15.8   81      2   \n",
       "375    23         4          151          ?   3035         20.5   82      1   \n",
       "\n",
       "                     name  \n",
       "33             ford pinto  \n",
       "127         ford maverick  \n",
       "331  renault lecar deluxe  \n",
       "337    ford mustang cobra  \n",
       "355           renault 18i  \n",
       "375        amc concord dl  "
      ]
     },
     "execution_count": 4,
     "metadata": {},
     "output_type": "execute_result"
    }
   ],
   "source": [
    "horsepower_missing_ind = df[df.horsepower=='?'].index\n",
    "df.loc[horsepower_missing_ind]"
   ]
  },
  {
   "cell_type": "code",
   "execution_count": 6,
   "metadata": {},
   "outputs": [
    {
     "data": {
      "text/plain": [
       "mpg             object\n",
       "cylinders       object\n",
       "displacement    object\n",
       "horsepower      object\n",
       "weight          object\n",
       "acceleration    object\n",
       "year            object\n",
       "origin          object\n",
       "name            object\n",
       "dtype: object"
      ]
     },
     "execution_count": 6,
     "metadata": {},
     "output_type": "execute_result"
    }
   ],
   "source": [
    "df.dtypes"
   ]
  },
  {
   "cell_type": "code",
   "execution_count": 7,
   "metadata": {},
   "outputs": [],
   "source": [
    "df.loc[horsepower_missing_ind, 'horsepower'] = float('nan')\n",
    "df[['mpg','cylinders','displacement','horsepower', 'weight', 'acceleration', 'year', 'origin']] = df[['mpg','cylinders','displacement','horsepower','weight','acceleration','year','origin']].apply(pd.to_numeric)"
   ]
  },
  {
   "cell_type": "code",
   "execution_count": 8,
   "metadata": {},
   "outputs": [
    {
     "data": {
      "text/plain": [
       "mpg             float64\n",
       "cylinders         int64\n",
       "displacement    float64\n",
       "horsepower      float64\n",
       "weight            int64\n",
       "acceleration    float64\n",
       "year              int64\n",
       "origin            int64\n",
       "name             object\n",
       "dtype: object"
      ]
     },
     "execution_count": 8,
     "metadata": {},
     "output_type": "execute_result"
    }
   ],
   "source": [
    "df.dtypes"
   ]
  },
  {
   "cell_type": "code",
   "execution_count": 9,
   "metadata": {},
   "outputs": [
    {
     "data": {
      "image/png": "[encoded data removed]",
      "text/plain": [
       "<Figure size 432x288 with 1 Axes>"
      ]
     },
     "metadata": {},
     "output_type": "display_data"
    }
   ],
   "source": [
    "filename2 = \"no_comma_auto_mpg.csv\"\n",
    "df2 = pd.read_csv (filename2, names = column_names)\n",
    "\n",
    "#First row contains columns such as \"Column 1\", \"Column2\" etc. I had to delete them first. Clearing the first row:\n",
    "df2.drop(df2.head(1).index, inplace=True)\n",
    "#df2 wanted to see how my new data frame looks like\n",
    "#df2.dtypes Ran this code and saw that all data is stored as \"objects\".So, I had to convert all to numeric before doing scattering with this data.\n",
    "# Otherwise, it gives an error\n",
    "df2[['mpg','cylinders','displacement','horsepower', 'weight', 'acceleration', 'year', 'origin']] = df2[['mpg','cylinders','displacement','horsepower','weight','acceleration','year','origin']].apply(pd.to_numeric)\n",
    "ax1 = df2.plot.scatter(x='mpg',y='horsepower', c=\"DarkBlue\")"
   ]
  },
  {
   "cell_type": "code",
   "execution_count": 10,
   "metadata": {},
   "outputs": [],
   "source": [
    "from sklearn import linear_model"
   ]
  },
  {
   "cell_type": "code",
   "execution_count": 11,
   "metadata": {},
   "outputs": [
    {
     "name": "stdout",
     "output_type": "stream",
     "text": [
      "194.4756431901867\n",
      "[-3.83888803]\n"
     ]
    }
   ],
   "source": [
    "# Initialize model\n",
    "regression_model = linear_model.LinearRegression()\n",
    "\n",
    "# Train the model using the no_comma_auto_mpg data\n",
    "regression_model.fit(X = pd.DataFrame(df2[\"mpg\"]), \n",
    "                     y = df2[\"horsepower\"])\n",
    "\n",
    "# Check trained model y-intercept\n",
    "print(regression_model.intercept_)\n",
    "\n",
    "# Check trained model coefficients\n",
    "print(regression_model.coef_)"
   ]
  },
  {
   "cell_type": "code",
   "execution_count": 12,
   "metadata": {},
   "outputs": [],
   "source": [
    "# The output above shows the model intercept and coefficients used to create the best fit line. \n",
    "# In this case the y-intercept term is set to 194.4756 and the coefficient for the mpg variable is -3.8388. \n",
    "# In other words, the model fit the line horsepower = 194.4756 - 3.8388*mpg.\n",
    "# Now, we need to find the variance.It is done so by using the model.score() function:"
   ]
  },
  {
   "cell_type": "code",
   "execution_count": 13,
   "metadata": {},
   "outputs": [
    {
     "data": {
      "text/plain": [
       "0.6059482578894348"
      ]
     },
     "execution_count": 13,
     "metadata": {},
     "output_type": "execute_result"
    }
   ],
   "source": [
    "regression_model.score(X = pd.DataFrame(df2[\"mpg\"]), \n",
    "                       y = df2[\"horsepower\"])"
   ]
  },
  {
   "cell_type": "code",
   "execution_count": 14,
   "metadata": {},
   "outputs": [],
   "source": [
    "# The output of the score function for linear regression is \"R-squared\" (variance).\n",
    "# Variance is a value that ranges from 0 to 1 which describes the proportion of variance in the response variable that is explained by the model.\n",
    "# In this case, mpg explains 60% of the variance in horsepower.\n",
    "# The R-squared measure is based on the residuals: differences between what the model predicts for each data point and the actual value of each data point.\n",
    "# We can extract the model's residuals by making a prediction with the model on the data and then subtracting the actual value from each prediction:"
   ]
  },
  {
   "cell_type": "code",
   "execution_count": 15,
   "metadata": {
    "scrolled": true
   },
   "outputs": [
    {
     "data": {
      "text/plain": [
       "count    3.920000e+02\n",
       "mean     1.450087e-14\n",
       "std      2.416226e+01\n",
       "min     -6.489232e+01\n",
       "25%     -1.571566e+01\n",
       "50%     -2.093713e+00\n",
       "75%      1.310768e+01\n",
       "max      9.694657e+01\n",
       "Name: horsepower, dtype: float64"
      ]
     },
     "execution_count": 15,
     "metadata": {},
     "output_type": "execute_result"
    }
   ],
   "source": [
    "train_prediction = regression_model.predict(X = pd.DataFrame(df2[\"mpg\"]))\n",
    "\n",
    "# Actual - prediction = residuals\n",
    "residuals = df2[\"horsepower\"] - train_prediction\n",
    "\n",
    "residuals.describe()"
   ]
  },
  {
   "cell_type": "code",
   "execution_count": 16,
   "metadata": {},
   "outputs": [],
   "source": [
    "# R-squared is calculated as 1 - (SSResiduals/SSTotal) where SSResiduals is the sum of the squares of the model residuals and SSTotal is the sum of the squares of the difference between each data point and the mean of the data.\n",
    "# We could calculate R-squared by hand like this:"
   ]
  },
  {
   "cell_type": "code",
   "execution_count": 17,
   "metadata": {},
   "outputs": [
    {
     "data": {
      "text/plain": [
       "0.6059482578894348"
      ]
     },
     "execution_count": 17,
     "metadata": {},
     "output_type": "execute_result"
    }
   ],
   "source": [
    "SSResiduals = (residuals**2).sum()\n",
    "\n",
    "SSTotal = ((df2[\"horsepower\"] - df2[\"horsepower\"].mean())**2).sum()\n",
    "\n",
    "# R-squared\n",
    "1 - (SSResiduals/SSTotal)"
   ]
  },
  {
   "cell_type": "code",
   "execution_count": 18,
   "metadata": {},
   "outputs": [],
   "source": [
    "# Now we can plot the line it fits on our scatterplot to see how well it fits the data:"
   ]
  },
  {
   "cell_type": "code",
   "execution_count": 20,
   "metadata": {},
   "outputs": [
    {
     "data": {
      "text/plain": [
       "[<matplotlib.lines.Line2D at 0x1ec3b371c50>]"
      ]
     },
     "execution_count": 20,
     "metadata": {},
     "output_type": "execute_result"
    },
    {
     "data": {
      "image/png": "[encoded data removed]",
      "text/plain": [
       "<Figure size 576x576 with 1 Axes>"
      ]
     },
     "metadata": {},
     "output_type": "display_data"
    }
   ],
   "source": [
    "df2.plot(kind=\"scatter\",\n",
    "           x=\"mpg\",\n",
    "           y=\"horsepower\",\n",
    "           figsize=(8,8),\n",
    "           color=\"black\")\n",
    "\n",
    "# Plot regression line\n",
    "plt.plot(df2[\"mpg\"],      # Explanitory variable\n",
    "         train_prediction,  # Predicted values\n",
    "         color=\"blue\")"
   ]
  },
  {
   "cell_type": "code",
   "execution_count": 21,
   "metadata": {},
   "outputs": [
    {
     "data": {
      "text/plain": [
       "((array([-2.91707214, -2.62850148, -2.46572851, -2.35005202, -2.25924608,\n",
       "         -2.18395743, -2.11932901, -2.06250202, -2.01164606, -1.96551592,\n",
       "         -1.9232246 , -1.88411705, -1.84769527, -1.81357142, -1.78143737,\n",
       "         -1.75104405, -1.72218717, -1.69469702, -1.66843096, -1.64326798,\n",
       "         -1.61910443, -1.59585088, -1.57342957, -1.55177245, -1.53081964,\n",
       "         -1.51051812, -1.49082075, -1.47168538, -1.4530742 , -1.43495315,\n",
       "         -1.41729142, -1.40006105, -1.3832366 , -1.36679482, -1.35071445,\n",
       "         -1.33497596, -1.31956136, -1.30445409, -1.2896388 , -1.27510129,\n",
       "         -1.26082838, -1.24680779, -1.23302811, -1.21947866, -1.20614946,\n",
       "         -1.19303118, -1.18011506, -1.16739287, -1.15485687, -1.14249978,\n",
       "         -1.13031472, -1.11829522, -1.10643514, -1.09472868, -1.08317036,\n",
       "         -1.07175496, -1.06047754, -1.04933341, -1.03831809, -1.02742733,\n",
       "         -1.0166571 , -1.00600352, -0.99546292, -0.98503177, -0.97470672,\n",
       "         -0.96448454, -0.95436217, -0.94433665, -0.93440516, -0.92456499,\n",
       "         -0.91481354, -0.90514831, -0.89556691, -0.88606703, -0.87664644,\n",
       "         -0.86730303, -0.85803472, -0.84883953, -0.83971557, -0.83066098,\n",
       "         -0.82167398, -0.81275286, -0.80389596, -0.79510168, -0.78636847,\n",
       "         -0.77769482, -0.76907929, -0.76052048, -0.75201701, -0.74356758,\n",
       "         -0.7351709 , -0.72682574, -0.71853089, -0.71028519, -0.7020875 ,\n",
       "         -0.69393672, -0.68583179, -0.67777166, -0.66975533, -0.6617818 ,\n",
       "         -0.65385013, -0.64595938, -0.63810865, -0.63029706, -0.62252373,\n",
       "         -0.61478784, -0.60708857, -0.59942512, -0.59179672, -0.58420259,\n",
       "         -0.57664201, -0.56911425, -0.56161861, -0.55415438, -0.54672091,\n",
       "         -0.53931752, -0.53194357, -0.52459844, -0.5172815 , -0.50999215,\n",
       "         -0.5027298 , -0.49549387, -0.48828378, -0.481099  , -0.47393896,\n",
       "         -0.46680314, -0.45969101, -0.45260205, -0.44553577, -0.43849167,\n",
       "         -0.43146926, -0.42446806, -0.4174876 , -0.41052743, -0.40358709,\n",
       "         -0.39666614, -0.38976413, -0.38288064, -0.37601525, -0.36916753,\n",
       "         -0.36233708, -0.3555235 , -0.34872638, -0.34194533, -0.33517997,\n",
       "         -0.32842992, -0.3216948 , -0.31497424, -0.30826788, -0.30157535,\n",
       "         -0.2948963 , -0.28823039, -0.28157725, -0.27493656, -0.26830797,\n",
       "         -0.26169114, -0.25508576, -0.24849149, -0.241908  , -0.23533498,\n",
       "         -0.22877211, -0.22221909, -0.21567559, -0.20914131, -0.20261595,\n",
       "         -0.19609921, -0.18959078, -0.18309038, -0.1765977 , -0.17011246,\n",
       "         -0.16363437, -0.15716313, -0.15069847, -0.14424011, -0.13778775,\n",
       "         -0.13134113, -0.12489995, -0.11846396, -0.11203287, -0.10560641,\n",
       "         -0.09918431, -0.0927663 , -0.0863521 , -0.07994146, -0.0735341 ,\n",
       "         -0.06712975, -0.06072816, -0.05432906, -0.04793218, -0.04153727,\n",
       "         -0.03514405, -0.02875226, -0.02236165, -0.01597196, -0.00958291,\n",
       "         -0.00319426,  0.00319426,  0.00958291,  0.01597196,  0.02236165,\n",
       "          0.02875226,  0.03514405,  0.04153727,  0.04793218,  0.05432906,\n",
       "          0.06072816,  0.06712975,  0.0735341 ,  0.07994146,  0.0863521 ,\n",
       "          0.0927663 ,  0.09918431,  0.10560641,  0.11203287,  0.11846396,\n",
       "          0.12489995,  0.13134113,  0.13778775,  0.14424011,  0.15069847,\n",
       "          0.15716313,  0.16363437,  0.17011246,  0.1765977 ,  0.18309038,\n",
       "          0.18959078,  0.19609921,  0.20261595,  0.20914131,  0.21567559,\n",
       "          0.22221909,  0.22877211,  0.23533498,  0.241908  ,  0.24849149,\n",
       "          0.25508576,  0.26169114,  0.26830797,  0.27493656,  0.28157725,\n",
       "          0.28823039,  0.2948963 ,  0.30157535,  0.30826788,  0.31497424,\n",
       "          0.3216948 ,  0.32842992,  0.33517997,  0.34194533,  0.34872638,\n",
       "          0.3555235 ,  0.36233708,  0.36916753,  0.37601525,  0.38288064,\n",
       "          0.38976413,  0.39666614,  0.40358709,  0.41052743,  0.4174876 ,\n",
       "          0.42446806,  0.43146926,  0.43849167,  0.44553577,  0.45260205,\n",
       "          0.45969101,  0.46680314,  0.47393896,  0.481099  ,  0.48828378,\n",
       "          0.49549387,  0.5027298 ,  0.50999215,  0.5172815 ,  0.52459844,\n",
       "          0.53194357,  0.53931752,  0.54672091,  0.55415438,  0.56161861,\n",
       "          0.56911425,  0.57664201,  0.58420259,  0.59179672,  0.59942512,\n",
       "          0.60708857,  0.61478784,  0.62252373,  0.63029706,  0.63810865,\n",
       "          0.64595938,  0.65385013,  0.6617818 ,  0.66975533,  0.67777166,\n",
       "          0.68583179,  0.69393672,  0.7020875 ,  0.71028519,  0.71853089,\n",
       "          0.72682574,  0.7351709 ,  0.74356758,  0.75201701,  0.76052048,\n",
       "          0.76907929,  0.77769482,  0.78636847,  0.79510168,  0.80389596,\n",
       "          0.81275286,  0.82167398,  0.83066098,  0.83971557,  0.84883953,\n",
       "          0.85803472,  0.86730303,  0.87664644,  0.88606703,  0.89556691,\n",
       "          0.90514831,  0.91481354,  0.92456499,  0.93440516,  0.94433665,\n",
       "          0.95436217,  0.96448454,  0.97470672,  0.98503177,  0.99546292,\n",
       "          1.00600352,  1.0166571 ,  1.02742733,  1.03831809,  1.04933341,\n",
       "          1.06047754,  1.07175496,  1.08317036,  1.09472868,  1.10643514,\n",
       "          1.11829522,  1.13031472,  1.14249978,  1.15485687,  1.16739287,\n",
       "          1.18011506,  1.19303118,  1.20614946,  1.21947866,  1.23302811,\n",
       "          1.24680779,  1.26082838,  1.27510129,  1.2896388 ,  1.30445409,\n",
       "          1.31956136,  1.33497596,  1.35071445,  1.36679482,  1.3832366 ,\n",
       "          1.40006105,  1.41729142,  1.43495315,  1.4530742 ,  1.47168538,\n",
       "          1.49082075,  1.51051812,  1.53081964,  1.55177245,  1.57342957,\n",
       "          1.59585088,  1.61910443,  1.64326798,  1.66843096,  1.69469702,\n",
       "          1.72218717,  1.75104405,  1.78143737,  1.81357142,  1.84769527,\n",
       "          1.88411705,  1.9232246 ,  1.96551592,  2.01164606,  2.06250202,\n",
       "          2.11932901,  2.18395743,  2.25924608,  2.35005202,  2.46572851,\n",
       "          2.62850148,  2.91707214]),\n",
       "  array([-64.8923227 , -64.8923227 , -52.18121844, -48.66455434,\n",
       "         -48.66455434, -47.3756586 , -41.91121382, -41.8589945 ,\n",
       "         -40.42288639, -38.02010647, -37.3756586 , -37.3756586 ,\n",
       "         -36.8923227 , -36.53677057, -35.3756586 , -34.14789024,\n",
       "         -34.02010647, -33.53677057, -33.53677057, -33.46566014,\n",
       "         -33.05343467, -33.05343467, -32.29510262, -31.93010493,\n",
       "         -31.53677057, -31.15288177, -31.14789024, -30.82566631,\n",
       "         -30.3756586 , -30.00121536, -29.69788254, -29.62677211,\n",
       "         -29.21454664, -28.93010493, -28.8589945 , -28.3756586 ,\n",
       "         -28.3756586 , -28.18121844, -28.05343467, -28.05343467,\n",
       "         -27.8589945 , -27.69788254, -27.66455434, -27.50344237,\n",
       "         -27.34233041, -27.34233041, -26.93010493, -26.8923227 ,\n",
       "         -26.8589945 , -26.69788254, -26.53677057, -25.66455434,\n",
       "         -25.45621459, -25.3756586 , -25.3756586 , -25.3756586 ,\n",
       "         -24.66455434, -24.53677057, -24.02010647, -23.8589945 ,\n",
       "         -23.50344237, -23.47011418, -23.18121844, -23.05343467,\n",
       "         -22.69788254, -21.53677057, -21.53677057, -21.53677057,\n",
       "         -21.53677057, -21.34233041, -20.86844006, -20.77843852,\n",
       "         -20.74511032, -20.3756586 , -20.3756586 , -20.3756586 ,\n",
       "         -20.18121844, -19.96788716, -19.66455434, -19.66455434,\n",
       "         -19.21454664, -19.21454664, -19.0578887 , -18.50344237,\n",
       "         -18.4751057 , -18.18121844, -18.11010801, -18.10066246,\n",
       "         -18.07677982, -17.69788254, -17.69788254, -17.50344237,\n",
       "         -17.29510262, -16.66455434, -16.56011572, -16.02010647,\n",
       "         -15.77843852, -15.76899296, -15.69788254, -15.66455434,\n",
       "         -15.57009877, -15.3756586 , -15.02010647, -14.97287868,\n",
       "         -14.79233811, -14.79233811, -14.69289101, -14.66455434,\n",
       "         -14.57009877, -14.57009877, -14.38955819, -13.54621613,\n",
       "         -13.53677057, -13.45621459, -13.3756586 , -13.22844623,\n",
       "         -13.14789024, -13.14789024, -13.07232578, -13.02010647,\n",
       "         -12.72621921, -12.42288639, -12.34233041, -12.30900221,\n",
       "         -12.30900221, -12.02010647, -11.98677828, -11.98677828,\n",
       "         -11.50344237, -11.30900221, -11.190664  , -11.18121844,\n",
       "         -11.18121844, -11.13399065, -10.77843852, -10.63122615,\n",
       "         -10.47011418, -10.39454972, -10.34233041, -10.22844623,\n",
       "         -10.11955357, -10.02010647,  -9.53677057,  -9.30900221,\n",
       "          -9.2901111 ,  -9.18121844,  -8.47011418,  -8.47011418,\n",
       "          -8.36122152,  -8.14789024,  -8.08177134,  -7.98677828,\n",
       "          -7.82566631,  -7.69788254,  -7.58399836,  -7.47011418,\n",
       "          -7.39900375,  -7.34233041,  -7.34233041,  -6.98677828,\n",
       "          -6.8923227 ,  -6.8589945 ,  -6.63122615,  -6.60288947,\n",
       "          -6.50344237,  -6.34233041,  -6.0578887 ,  -5.72621921,\n",
       "          -5.55067016,  -5.39454972,  -5.34233041,  -5.34233041,\n",
       "          -5.14789024,  -5.12899913,  -5.02010647,  -4.9917698 ,\n",
       "          -4.82566631,  -4.66455434,  -4.63122615,  -4.57009877,\n",
       "          -4.21454664,  -3.8589945 ,  -3.73121073,  -3.50344237,\n",
       "          -3.50344237,  -3.49399682,  -3.47955974,  -3.43233195,\n",
       "          -3.30900221,  -2.82566631,  -2.82566631,  -2.82566631,\n",
       "          -2.82566631,  -2.66455434,  -2.55067016,  -2.24787483,\n",
       "          -1.93955049,  -1.93955049,  -1.66455434,  -1.63122615,\n",
       "          -1.24733734,  -1.01511495,  -0.98677828,  -0.85400298,\n",
       "          -0.82566631,  -0.82566631,  -0.73121073,  -0.62178059,\n",
       "          -0.58399836,  -0.41344083,  -0.14789024,   0.26932676,\n",
       "           0.42990123,   0.42990123,   0.61044181,   0.68155223,\n",
       "           0.69099779,   0.71434294,   0.78545336,   0.83321864,\n",
       "           0.85210976,   1.01322172,   1.43043872,   1.51544874,\n",
       "           1.72432599,   1.73377154,   1.90432907,   1.97989353,\n",
       "           2.08878618,   2.27877231,   2.58210513,   3.01322172,\n",
       "           3.01322172,   3.01322172,   3.06044951,   3.44433832,\n",
       "           4.10821479,   4.1271059 ,   4.13655146,   4.23100704,\n",
       "           4.30211746,   4.43043872,   4.54877694,   4.6243414 ,\n",
       "           4.69099779,   4.90432907,   5.01322172,   5.42990123,\n",
       "           5.42990123,   5.42990123,   5.42990123,   5.73822558,\n",
       "           6.04654992,   6.09377771,   6.20766189,   6.52988582,\n",
       "           6.81432753,   6.86600935,   6.9421113 ,   6.94656533,\n",
       "           7.02712132,   7.26878927,   7.65766959,   7.96599394,\n",
       "           8.1076773 ,   8.1076773 ,   8.88543795,   9.26878927,\n",
       "           9.26878927,   9.26878927,   9.26878927,   9.26878927,\n",
       "           9.26878927,   9.52988582,   9.89488351,   9.92322018,\n",
       "          10.02712132,  10.10821479,  10.392119  ,  10.42990123,\n",
       "          10.78545336,  11.49655763,  11.5910132 ,  11.78599085,\n",
       "          12.25043564,  12.2598812 ,  12.26878927,  12.26878927,\n",
       "          12.36877385,  12.56321402,  12.63877848,  12.70489738,\n",
       "          12.70489738,  13.1076773 ,  13.1076773 ,  13.1076773 ,\n",
       "          13.1076773 ,  13.1076773 ,  13.18823328,  13.33099162,\n",
       "          13.42990123,  13.62487889,  13.72432599,  14.0082302 ,\n",
       "          14.40210205,  15.19821633,  15.56321402,  15.94656533,\n",
       "          16.49655763,  16.94656533,  16.94656533,  16.94656533,\n",
       "          17.1271059 ,  17.62933292,  17.70489738,  17.71488043,\n",
       "          17.72432599,  18.33544566,  18.40210205,  18.40210205,\n",
       "          18.4254472 ,  18.5910132 ,  18.72432599,  18.81878156,\n",
       "          18.98043102,  19.03211284,  19.24099008,  19.26878927,\n",
       "          19.99878464,  20.13209743,  20.42990123,  20.78545336,\n",
       "          22.06989507,  22.57265958,  23.40655609,  23.58709666,\n",
       "          24.04654992,  24.1271059 ,  24.23100704,  24.26878927,\n",
       "          24.36877385,  24.6243414 ,  25.40156456,  25.42990123,\n",
       "          25.42990123,  26.43543025,  26.54378541,  26.7765453 ,\n",
       "          27.15098854,  27.72432599,  27.75212517,  27.88543795,\n",
       "          28.1076773 ,  30.42990123,  30.42990123,  30.42990123,\n",
       "          31.08433215,  31.5910132 ,  31.5910132 ,  31.72432599,\n",
       "          31.82377308,  33.0743491 ,  33.1076773 ,  34.26878927,\n",
       "          34.26878927,  35.02712132,  36.40210205,  36.94656533,\n",
       "          38.47267499,  39.56321402,  40.83821017,  43.73876307,\n",
       "          43.91323714,  45.42990123,  46.94656533,  48.86600935,\n",
       "          49.41653913,  49.5910132 ,  53.1076773 ,  55.02712132,\n",
       "          55.75212517,  57.75212517,  58.91323714,  61.1076773 ,\n",
       "          63.05599548,  70.42990123,  74.26878927,  76.5910132 ,\n",
       "          79.26878927,  84.26878927,  84.26878927,  96.94656533])),\n",
       " (23.867403907105462, 1.5651328136080127e-14, 0.9828546255113687))"
      ]
     },
     "execution_count": 21,
     "metadata": {},
     "output_type": "execute_result"
    },
    {
     "data": {
      "image/png": "[encoded data removed]",
      "text/plain": [
       "<Figure size 576x576 with 1 Axes>"
      ]
     },
     "metadata": {},
     "output_type": "display_data"
    }
   ],
   "source": [
    "plt.figure(figsize=(8,8))\n",
    "\n",
    "stats.probplot(residuals, dist=\"norm\", plot=plt)"
   ]
  },
  {
   "cell_type": "code",
   "execution_count": 22,
   "metadata": {},
   "outputs": [],
   "source": [
    "# When residuals are normally distributed, they tend to lie along the straight line on the Q-Q plot.\n",
    "# In this case residuals appear to follow a nice linear pattern\n",
    "# After making model predictions, it is useful to calculate root-mean-squared-error. \n",
    "# Root mean squared error (RMSE) is a common evaluation metric for predictions involving real numbers. \n",
    "# Root mean squared error is square root of the average of the squared error (residuals.). \n",
    "# Lower values of RMSE means a better fit\n"
   ]
  },
  {
   "cell_type": "code",
   "execution_count": 23,
   "metadata": {},
   "outputs": [
    {
     "data": {
      "text/plain": [
       "24.131425079734058"
      ]
     },
     "execution_count": 23,
     "metadata": {},
     "output_type": "execute_result"
    }
   ],
   "source": [
    "def rmse(predicted, targets):\n",
    "    \"\"\"\n",
    "    Computes root mean squared error of two numpy ndarrays\n",
    "    \n",
    "    Args:\n",
    "        predicted: an ndarray of predictions\n",
    "        targets: an ndarray of target values\n",
    "    \n",
    "    Returns:\n",
    "        The root mean squared error as a float\n",
    "    \"\"\"\n",
    "    return (np.sqrt(np.mean((targets-predicted)**2)))\n",
    "\n",
    "rmse(train_prediction, df2[\"horsepower\"])"
   ]
  },
  {
   "cell_type": "code",
   "execution_count": 24,
   "metadata": {},
   "outputs": [
    {
     "data": {
      "image/png": "[encoded data removed]",
      "text/plain": [
       "<Figure size 432x288 with 1 Axes>"
      ]
     },
     "metadata": {},
     "output_type": "display_data"
    }
   ],
   "source": [
    "filename2 = \"no_comma_auto_mpg.csv\"\n",
    "df2 = pd.read_csv (filename2, names = column_names)\n",
    "#First row contains columns such as \"Column 1\", \"Column2\" etc. I had to delete them first. Clearing the first row:\n",
    "df2.drop(df2.head(1).index, inplace=True)\n",
    "#df2 wanted to see how my new data frame looks like\n",
    "#df2.dtypes Ran this code and saw that all data is stored as \"objects\".So, I had to convert all to numeric before doing scattering with this data.\n",
    "# Otherwise, it gives an error\n",
    "df2[['mpg','cylinders','displacement','horsepower', 'weight', 'acceleration', 'year', 'origin']] = df2[['mpg','cylinders','displacement','horsepower','weight','acceleration','year','origin']].apply(pd.to_numeric)\n",
    "\n",
    "ax2 = df.plot.scatter(x='displacement',y='horsepower', c=\"DarkBlue\")"
   ]
  },
  {
   "cell_type": "code",
   "execution_count": 25,
   "metadata": {},
   "outputs": [],
   "source": [
    "from sklearn import linear_model"
   ]
  },
  {
   "cell_type": "code",
   "execution_count": 26,
   "metadata": {},
   "outputs": [
    {
     "name": "stdout",
     "output_type": "stream",
     "text": [
      "40.30610849738838\n",
      "[0.33003767]\n"
     ]
    }
   ],
   "source": [
    "# Initialize model\n",
    "regression_model2 = linear_model.LinearRegression()\n",
    "\n",
    "# Train the model using the no_comma_auto_mpg data\n",
    "regression_model2.fit(X = pd.DataFrame(df2[\"displacement\"]), \n",
    "                     y = df2[\"horsepower\"])\n",
    "\n",
    "# Check trained model y-intercept\n",
    "print(regression_model2.intercept_)\n",
    "\n",
    "# Check trained model coefficients\n",
    "print(regression_model2.coef_)"
   ]
  },
  {
   "cell_type": "code",
   "execution_count": 27,
   "metadata": {},
   "outputs": [],
   "source": [
    "# The output above shows the model intercept and coefficients used to create the best fit line. \n",
    "# In this case the y-intercept term is set to 40.3061 and the coefficient for the displacement variable is 0.3300. \n",
    "# In other words, the model fit the line horsepower = 40.3061 + 0.3300*displacement.\n",
    "# Now, we need to find the variance.It is done so by using the model.score() function:"
   ]
  },
  {
   "cell_type": "code",
   "execution_count": 28,
   "metadata": {},
   "outputs": [
    {
     "data": {
      "text/plain": [
       "0.805070127357131"
      ]
     },
     "execution_count": 28,
     "metadata": {},
     "output_type": "execute_result"
    }
   ],
   "source": [
    "regression_model2.score(X = pd.DataFrame(df2[\"displacement\"]), \n",
    "                       y = df2[\"horsepower\"])"
   ]
  },
  {
   "cell_type": "code",
   "execution_count": 29,
   "metadata": {},
   "outputs": [],
   "source": [
    "# The output of the score function for linear regression is \"R-squared\" (variance).\n",
    "# Variance is a value that ranges from 0 to 1 which describes the proportion of variance in the response variable that is explained by the model.\n",
    "# In this case, displacement explains 80% of the variance in horsepower.\n",
    "# The R-squared measure is based on the residuals: differences between what the model predicts for each data point and the actual value of each data point.\n",
    "# We can extract the model's residuals by making a prediction with the model on the data and then subtracting the actual value from each prediction:"
   ]
  },
  {
   "cell_type": "code",
   "execution_count": 30,
   "metadata": {},
   "outputs": [
    {
     "data": {
      "text/plain": [
       "count    3.920000e+02\n",
       "mean    -7.069175e-15\n",
       "std      1.699418e+01\n",
       "min     -5.081929e+01\n",
       "25%     -1.069500e+01\n",
       "50%     -8.192914e-01\n",
       "75%      8.676471e+00\n",
       "max      6.474191e+01\n",
       "Name: horsepower, dtype: float64"
      ]
     },
     "execution_count": 30,
     "metadata": {},
     "output_type": "execute_result"
    }
   ],
   "source": [
    "train_prediction2 = regression_model2.predict(X = pd.DataFrame(df2[\"displacement\"]))\n",
    "\n",
    "# Actual - prediction = residuals\n",
    "residuals2 = df2[\"horsepower\"] - train_prediction2\n",
    "\n",
    "residuals2.describe()"
   ]
  },
  {
   "cell_type": "code",
   "execution_count": 31,
   "metadata": {},
   "outputs": [],
   "source": [
    "# R-squared is calculated as 1 - (SSResiduals/SSTotal) where SSResiduals is the sum of the squares of the model residuals and SSTotal is the sum of the squares of the difference between each data point and the mean of the data.\n",
    "# We could calculate R-squared by hand like this:"
   ]
  },
  {
   "cell_type": "code",
   "execution_count": 32,
   "metadata": {},
   "outputs": [
    {
     "data": {
      "text/plain": [
       "0.805070127357131"
      ]
     },
     "execution_count": 32,
     "metadata": {},
     "output_type": "execute_result"
    }
   ],
   "source": [
    "SSResiduals2 = (residuals2**2).sum()\n",
    "\n",
    "SSTotal2 = ((df2[\"horsepower\"] - df2[\"horsepower\"].mean())**2).sum()\n",
    "\n",
    "# R-squared\n",
    "1 - (SSResiduals2/SSTotal2)"
   ]
  },
  {
   "cell_type": "code",
   "execution_count": 33,
   "metadata": {},
   "outputs": [],
   "source": [
    "# Now we can plot the line it fits on our scatterplot to see how well it fits the data:"
   ]
  },
  {
   "cell_type": "code",
   "execution_count": 34,
   "metadata": {},
   "outputs": [
    {
     "data": {
      "text/plain": [
       "[<matplotlib.lines.Line2D at 0x1ec3bd43128>]"
      ]
     },
     "execution_count": 34,
     "metadata": {},
     "output_type": "execute_result"
    },
    {
     "data": {
      "image/png": "[encoded data removed]",
      "text/plain": [
       "<Figure size 576x576 with 1 Axes>"
      ]
     },
     "metadata": {},
     "output_type": "display_data"
    }
   ],
   "source": [
    "df2.plot(kind=\"scatter\",\n",
    "           x=\"displacement\",\n",
    "           y=\"horsepower\",\n",
    "           figsize=(8,8),\n",
    "           color=\"black\")\n",
    "\n",
    "# Plot regression line\n",
    "plt.plot(df2[\"displacement\"],      # Explanitory variable\n",
    "         train_prediction2,  # Predicted values\n",
    "         color=\"blue\")"
   ]
  },
  {
   "cell_type": "code",
   "execution_count": 35,
   "metadata": {},
   "outputs": [
    {
     "data": {
      "text/plain": [
       "((array([-2.91707214, -2.62850148, -2.46572851, -2.35005202, -2.25924608,\n",
       "         -2.18395743, -2.11932901, -2.06250202, -2.01164606, -1.96551592,\n",
       "         -1.9232246 , -1.88411705, -1.84769527, -1.81357142, -1.78143737,\n",
       "         -1.75104405, -1.72218717, -1.69469702, -1.66843096, -1.64326798,\n",
       "         -1.61910443, -1.59585088, -1.57342957, -1.55177245, -1.53081964,\n",
       "         -1.51051812, -1.49082075, -1.47168538, -1.4530742 , -1.43495315,\n",
       "         -1.41729142, -1.40006105, -1.3832366 , -1.36679482, -1.35071445,\n",
       "         -1.33497596, -1.31956136, -1.30445409, -1.2896388 , -1.27510129,\n",
       "         -1.26082838, -1.24680779, -1.23302811, -1.21947866, -1.20614946,\n",
       "         -1.19303118, -1.18011506, -1.16739287, -1.15485687, -1.14249978,\n",
       "         -1.13031472, -1.11829522, -1.10643514, -1.09472868, -1.08317036,\n",
       "         -1.07175496, -1.06047754, -1.04933341, -1.03831809, -1.02742733,\n",
       "         -1.0166571 , -1.00600352, -0.99546292, -0.98503177, -0.97470672,\n",
       "         -0.96448454, -0.95436217, -0.94433665, -0.93440516, -0.92456499,\n",
       "         -0.91481354, -0.90514831, -0.89556691, -0.88606703, -0.87664644,\n",
       "         -0.86730303, -0.85803472, -0.84883953, -0.83971557, -0.83066098,\n",
       "         -0.82167398, -0.81275286, -0.80389596, -0.79510168, -0.78636847,\n",
       "         -0.77769482, -0.76907929, -0.76052048, -0.75201701, -0.74356758,\n",
       "         -0.7351709 , -0.72682574, -0.71853089, -0.71028519, -0.7020875 ,\n",
       "         -0.69393672, -0.68583179, -0.67777166, -0.66975533, -0.6617818 ,\n",
       "         -0.65385013, -0.64595938, -0.63810865, -0.63029706, -0.62252373,\n",
       "         -0.61478784, -0.60708857, -0.59942512, -0.59179672, -0.58420259,\n",
       "         -0.57664201, -0.56911425, -0.56161861, -0.55415438, -0.54672091,\n",
       "         -0.53931752, -0.53194357, -0.52459844, -0.5172815 , -0.50999215,\n",
       "         -0.5027298 , -0.49549387, -0.48828378, -0.481099  , -0.47393896,\n",
       "         -0.46680314, -0.45969101, -0.45260205, -0.44553577, -0.43849167,\n",
       "         -0.43146926, -0.42446806, -0.4174876 , -0.41052743, -0.40358709,\n",
       "         -0.39666614, -0.38976413, -0.38288064, -0.37601525, -0.36916753,\n",
       "         -0.36233708, -0.3555235 , -0.34872638, -0.34194533, -0.33517997,\n",
       "         -0.32842992, -0.3216948 , -0.31497424, -0.30826788, -0.30157535,\n",
       "         -0.2948963 , -0.28823039, -0.28157725, -0.27493656, -0.26830797,\n",
       "         -0.26169114, -0.25508576, -0.24849149, -0.241908  , -0.23533498,\n",
       "         -0.22877211, -0.22221909, -0.21567559, -0.20914131, -0.20261595,\n",
       "         -0.19609921, -0.18959078, -0.18309038, -0.1765977 , -0.17011246,\n",
       "         -0.16363437, -0.15716313, -0.15069847, -0.14424011, -0.13778775,\n",
       "         -0.13134113, -0.12489995, -0.11846396, -0.11203287, -0.10560641,\n",
       "         -0.09918431, -0.0927663 , -0.0863521 , -0.07994146, -0.0735341 ,\n",
       "         -0.06712975, -0.06072816, -0.05432906, -0.04793218, -0.04153727,\n",
       "         -0.03514405, -0.02875226, -0.02236165, -0.01597196, -0.00958291,\n",
       "         -0.00319426,  0.00319426,  0.00958291,  0.01597196,  0.02236165,\n",
       "          0.02875226,  0.03514405,  0.04153727,  0.04793218,  0.05432906,\n",
       "          0.06072816,  0.06712975,  0.0735341 ,  0.07994146,  0.0863521 ,\n",
       "          0.0927663 ,  0.09918431,  0.10560641,  0.11203287,  0.11846396,\n",
       "          0.12489995,  0.13134113,  0.13778775,  0.14424011,  0.15069847,\n",
       "          0.15716313,  0.16363437,  0.17011246,  0.1765977 ,  0.18309038,\n",
       "          0.18959078,  0.19609921,  0.20261595,  0.20914131,  0.21567559,\n",
       "          0.22221909,  0.22877211,  0.23533498,  0.241908  ,  0.24849149,\n",
       "          0.25508576,  0.26169114,  0.26830797,  0.27493656,  0.28157725,\n",
       "          0.28823039,  0.2948963 ,  0.30157535,  0.30826788,  0.31497424,\n",
       "          0.3216948 ,  0.32842992,  0.33517997,  0.34194533,  0.34872638,\n",
       "          0.3555235 ,  0.36233708,  0.36916753,  0.37601525,  0.38288064,\n",
       "          0.38976413,  0.39666614,  0.40358709,  0.41052743,  0.4174876 ,\n",
       "          0.42446806,  0.43146926,  0.43849167,  0.44553577,  0.45260205,\n",
       "          0.45969101,  0.46680314,  0.47393896,  0.481099  ,  0.48828378,\n",
       "          0.49549387,  0.5027298 ,  0.50999215,  0.5172815 ,  0.52459844,\n",
       "          0.53194357,  0.53931752,  0.54672091,  0.55415438,  0.56161861,\n",
       "          0.56911425,  0.57664201,  0.58420259,  0.59179672,  0.59942512,\n",
       "          0.60708857,  0.61478784,  0.62252373,  0.63029706,  0.63810865,\n",
       "          0.64595938,  0.65385013,  0.6617818 ,  0.66975533,  0.67777166,\n",
       "          0.68583179,  0.69393672,  0.7020875 ,  0.71028519,  0.71853089,\n",
       "          0.72682574,  0.7351709 ,  0.74356758,  0.75201701,  0.76052048,\n",
       "          0.76907929,  0.77769482,  0.78636847,  0.79510168,  0.80389596,\n",
       "          0.81275286,  0.82167398,  0.83066098,  0.83971557,  0.84883953,\n",
       "          0.85803472,  0.86730303,  0.87664644,  0.88606703,  0.89556691,\n",
       "          0.90514831,  0.91481354,  0.92456499,  0.93440516,  0.94433665,\n",
       "          0.95436217,  0.96448454,  0.97470672,  0.98503177,  0.99546292,\n",
       "          1.00600352,  1.0166571 ,  1.02742733,  1.03831809,  1.04933341,\n",
       "          1.06047754,  1.07175496,  1.08317036,  1.09472868,  1.10643514,\n",
       "          1.11829522,  1.13031472,  1.14249978,  1.15485687,  1.16739287,\n",
       "          1.18011506,  1.19303118,  1.20614946,  1.21947866,  1.23302811,\n",
       "          1.24680779,  1.26082838,  1.27510129,  1.2896388 ,  1.30445409,\n",
       "          1.31956136,  1.33497596,  1.35071445,  1.36679482,  1.3832366 ,\n",
       "          1.40006105,  1.41729142,  1.43495315,  1.4530742 ,  1.47168538,\n",
       "          1.49082075,  1.51051812,  1.53081964,  1.55177245,  1.57342957,\n",
       "          1.59585088,  1.61910443,  1.64326798,  1.66843096,  1.69469702,\n",
       "          1.72218717,  1.75104405,  1.78143737,  1.81357142,  1.84769527,\n",
       "          1.88411705,  1.9232246 ,  1.96551592,  2.01164606,  2.06250202,\n",
       "          2.11932901,  2.18395743,  2.25924608,  2.35005202,  2.46572851,\n",
       "          2.62850148,  2.91707214]),\n",
       "  array([-5.08192914e+01, -5.08155249e+01, -5.08155249e+01, -4.48155249e+01,\n",
       "         -4.17759769e+01, -3.61159015e+01, -3.48155249e+01, -3.48155249e+01,\n",
       "         -3.48155249e+01, -3.08192914e+01, -3.04558262e+01, -2.95645832e+01,\n",
       "         -2.68748469e+01, -2.68748469e+01, -2.68748469e+01, -2.68748469e+01,\n",
       "         -2.63197621e+01, -2.63197621e+01, -2.53136416e+01, -2.48155249e+01,\n",
       "         -2.45645832e+01, -2.37030013e+01, -2.28155249e+01, -2.28155249e+01,\n",
       "         -2.28155249e+01, -2.28155249e+01, -2.28155249e+01, -2.23211747e+01,\n",
       "         -2.23211747e+01, -2.23211747e+01, -2.20094984e+01, -2.20094984e+01,\n",
       "         -2.20094984e+01, -2.14916077e+01, -2.13136416e+01, -2.13136416e+01,\n",
       "         -2.13136416e+01, -2.13136416e+01, -2.06375588e+01, -2.03197621e+01,\n",
       "         -1.95645832e+01, -1.95645832e+01, -1.83197621e+01, -1.83136416e+01,\n",
       "         -1.81493291e+01, -1.78155249e+01, -1.78155249e+01, -1.78155249e+01,\n",
       "         -1.73395361e+01, -1.73395361e+01, -1.68748469e+01, -1.68748469e+01,\n",
       "         -1.68748469e+01, -1.68748469e+01, -1.68748469e+01, -1.68748469e+01,\n",
       "         -1.67759769e+01, -1.63593101e+01, -1.61159015e+01, -1.61159015e+01,\n",
       "         -1.59836039e+01, -1.58414193e+01, -1.54558262e+01, -1.54558262e+01,\n",
       "         -1.54558262e+01, -1.45645832e+01, -1.45645832e+01, -1.45645832e+01,\n",
       "         -1.45645832e+01, -1.45113817e+01, -1.45113817e+01, -1.45113817e+01,\n",
       "         -1.41493291e+01, -1.40490464e+01, -1.37486698e+01, -1.33889711e+01,\n",
       "         -1.32406660e+01, -1.28155249e+01, -1.28155249e+01, -1.26497997e+01,\n",
       "         -1.23197621e+01, -1.21615700e+01, -1.19600634e+01, -1.19600634e+01,\n",
       "         -1.16276718e+01, -1.16276718e+01, -1.15448092e+01, -1.15448092e+01,\n",
       "         -1.15448092e+01, -1.15113817e+01, -1.13136416e+01, -1.09774835e+01,\n",
       "         -1.09774835e+01, -1.09675965e+01, -1.08192914e+01, -1.08192914e+01,\n",
       "         -1.08192914e+01, -1.08192914e+01, -1.06535663e+01, -1.06535663e+01,\n",
       "         -1.06535663e+01, -1.03395361e+01, -1.02580861e+01, -9.97748348e+00,\n",
       "         -9.97748348e+00, -9.67946073e+00, -9.64979972e+00, -9.56458324e+00,\n",
       "         -9.56458324e+00, -9.56458324e+00, -9.11966808e+00, -8.98360393e+00,\n",
       "         -8.51138167e+00, -8.37908407e+00, -8.37908407e+00, -8.14932909e+00,\n",
       "         -7.67946073e+00, -7.67946073e+00, -7.64979972e+00, -7.64979972e+00,\n",
       "         -7.14932909e+00, -7.03915940e+00, -6.84141933e+00, -6.69923473e+00,\n",
       "         -6.64979972e+00, -6.54480923e+00, -6.54480923e+00, -6.54480923e+00,\n",
       "         -6.14179599e+00, -5.95017637e+00, -5.91062836e+00, -5.81929142e+00,\n",
       "         -5.45582620e+00, -5.32117470e+00, -5.31976205e+00, -5.31976205e+00,\n",
       "         -5.31976205e+00, -5.25808613e+00, -5.25808613e+00, -5.14179599e+00,\n",
       "         -4.96006338e+00, -4.96006338e+00, -4.91062836e+00, -4.87484689e+00,\n",
       "         -4.68934773e+00, -4.64979972e+00, -4.64979972e+00, -4.64979972e+00,\n",
       "         -4.56458324e+00, -4.56458324e+00, -4.24066602e+00, -4.14932909e+00,\n",
       "         -3.68934773e+00, -3.68934773e+00, -3.68934773e+00, -3.62013871e+00,\n",
       "         -3.59047770e+00, -3.59047770e+00, -3.51138167e+00, -3.42616519e+00,\n",
       "         -3.35931007e+00, -3.35931007e+00, -3.35931007e+00, -3.33953606e+00,\n",
       "         -3.33953606e+00, -3.33953606e+00, -3.33953606e+00, -3.14932909e+00,\n",
       "         -3.14932909e+00, -2.98972439e+00, -2.97748348e+00, -2.64979972e+00,\n",
       "         -2.64979972e+00, -2.33953606e+00, -2.33953606e+00, -2.33953606e+00,\n",
       "         -2.32117470e+00, -2.32117470e+00, -2.14179599e+00, -1.54480923e+00,\n",
       "         -1.33953606e+00, -1.31976205e+00, -9.77483479e-01, -9.77483479e-01,\n",
       "         -9.67596475e-01, -9.60063375e-01, -9.60063375e-01, -9.50176372e-01,\n",
       "         -9.50176372e-01, -9.10628358e-01, -8.61193340e-01, -8.61193340e-01,\n",
       "         -8.61193340e-01, -8.61193340e-01, -8.61193340e-01, -8.19291423e-01,\n",
       "         -8.19291423e-01, -6.20138706e-01, -6.20138706e-01, -5.70703689e-01,\n",
       "         -5.11381668e-01, -3.39536058e-01, -2.58086127e-01, -2.40666023e-01,\n",
       "         -1.41795988e-01, -1.41795988e-01, -1.41795988e-01, -1.41795988e-01,\n",
       "         -1.41795988e-01, -1.41795988e-01, -9.49839251e-03, -9.49839251e-03,\n",
       "          2.25165212e-02,  2.25165212e-02,  2.25165212e-02,  2.25165212e-02,\n",
       "          3.99366250e-02,  2.08015684e-01,  2.08015684e-01,  2.57450702e-01,\n",
       "          6.20915928e-01,  6.20915928e-01,  6.20915928e-01,  9.90501607e-01,\n",
       "          1.26121725e+00,  1.26121725e+00,  1.32053927e+00,  1.32053927e+00,\n",
       "          1.48861833e+00,  1.48861833e+00,  1.48861833e+00,  1.64068993e+00,\n",
       "          1.64068993e+00,  1.64068993e+00,  1.85067091e+00,  2.40952230e+00,\n",
       "          2.41940931e+00,  2.48861833e+00,  2.67882530e+00,  2.67882530e+00,\n",
       "          2.67882530e+00,  2.68023795e+00,  2.68023795e+00,  2.68023795e+00,\n",
       "          3.05971063e+00,  3.28946562e+00,  3.35020028e+00,  3.48861833e+00,\n",
       "          3.48861833e+00,  3.62091593e+00,  4.03240352e+00,  4.03240352e+00,\n",
       "          4.18070858e+00,  4.42929631e+00,  4.74191387e+00,  4.74191387e+00,\n",
       "          4.74191387e+00,  4.74191387e+00,  4.74191387e+00,  4.74191387e+00,\n",
       "          4.74191387e+00,  4.74191387e+00,  4.74191387e+00,  4.74191387e+00,\n",
       "          4.74191387e+00,  4.74191387e+00,  4.93117959e+00,  4.99050161e+00,\n",
       "          4.99050161e+00,  5.42929631e+00,  5.42929631e+00,  5.42929631e+00,\n",
       "          5.46884433e+00,  5.48861833e+00,  5.48861833e+00,  5.68023795e+00,\n",
       "          5.68023795e+00,  5.68023795e+00,  5.68023795e+00,  6.35020028e+00,\n",
       "          6.65057694e+00,  7.08937164e+00,  7.35020028e+00,  7.35020028e+00,\n",
       "          7.42929631e+00,  7.48108523e+00,  7.51521912e+00,  7.67882530e+00,\n",
       "          7.72967297e+00,  8.08937164e+00,  8.08937164e+00,  8.08937164e+00,\n",
       "          8.16846767e+00,  8.50839234e+00,  9.18070858e+00,  9.18070858e+00,\n",
       "          9.18070858e+00,  9.36008729e+00,  9.36244119e+00,  9.36244119e+00,\n",
       "          9.36244119e+00,  9.36244119e+00,  9.36244119e+00,  9.95707405e+00,\n",
       "          1.03502003e+01,  1.03502003e+01,  1.03798613e+01,  1.03897483e+01,\n",
       "          1.04688443e+01,  1.04688443e+01,  1.07296730e+01,  1.07296730e+01,\n",
       "          1.07296730e+01,  1.08803319e+01,  1.14095223e+01,  1.14688443e+01,\n",
       "          1.24194093e+01,  1.25973754e+01,  1.30695976e+01,  1.32080157e+01,\n",
       "          1.32080157e+01,  1.32894656e+01,  1.41807086e+01,  1.43798613e+01,\n",
       "          1.54292963e+01,  1.55380533e+01,  1.56802379e+01,  1.56802379e+01,\n",
       "          1.56802379e+01,  1.56802379e+01,  1.58803319e+01,  1.61077330e+01,\n",
       "          1.61077330e+01,  1.62080157e+01,  1.67395600e+01,  1.70498236e+01,\n",
       "          1.70893716e+01,  1.70893716e+01,  1.73502003e+01,  1.73996353e+01,\n",
       "          1.73996353e+01,  1.73996353e+01,  1.74194093e+01,  1.74194093e+01,\n",
       "          1.74194093e+01,  1.75973754e+01,  1.75973754e+01,  1.76788253e+01,\n",
       "          1.76788253e+01,  1.77593340e+01,  1.80498236e+01,  1.87889950e+01,\n",
       "          1.91807086e+01,  1.94589573e+01,  1.96802379e+01,  2.02475637e+01,\n",
       "          2.03699743e+01,  2.04194093e+01,  2.09792020e+01,  2.41807086e+01,\n",
       "          2.41807086e+01,  2.41807086e+01,  2.42475637e+01,  2.61077330e+01,\n",
       "          2.65912549e+01,  2.94773187e+01,  2.94773187e+01,  2.97593340e+01,\n",
       "          2.97593340e+01,  2.98567914e+01,  3.02080157e+01,  3.08977520e+01,\n",
       "          3.15083923e+01,  3.17593340e+01,  3.17593340e+01,  3.27593340e+01,\n",
       "          3.35912549e+01,  3.45267537e+01,  3.45267537e+01,  3.45267537e+01,\n",
       "          3.47593340e+01,  3.47593340e+01,  3.62475637e+01,  3.65912549e+01,\n",
       "          3.88977520e+01,  4.32908783e+01,  4.84551908e+01,  5.23624412e+01,\n",
       "          5.58803319e+01,  5.76788253e+01,  5.83723282e+01,  6.47419139e+01])),\n",
       " (16.84844213273672, -3.4186935635057062e-15, 0.9864640896590214))"
      ]
     },
     "execution_count": 35,
     "metadata": {},
     "output_type": "execute_result"
    },
    {
     "data": {
      "image/png": "[encoded data removed]",
      "text/plain": [
       "<Figure size 576x576 with 1 Axes>"
      ]
     },
     "metadata": {},
     "output_type": "display_data"
    }
   ],
   "source": [
    "plt.figure(figsize=(8,8))\n",
    "\n",
    "stats.probplot(residuals2, dist=\"norm\", plot=plt)"
   ]
  },
  {
   "cell_type": "code",
   "execution_count": 36,
   "metadata": {},
   "outputs": [],
   "source": [
    "# When residuals are normally distributed, they tend to lie along the straight line on the Q-Q plot.\n",
    "# In this case residuals appear to follow a nice linear pattern\n",
    "# After making model predictions, it is useful to calculate root-mean-squared-error. \n",
    "# Root mean squared error (RMSE) is a common evaluation metric for predictions involving real numbers. \n",
    "# Root mean squared error is square root of the average of the squared error (residuals.). \n",
    "# Lower values of RMSE means a better fit\n"
   ]
  },
  {
   "cell_type": "code",
   "execution_count": 37,
   "metadata": {},
   "outputs": [
    {
     "data": {
      "text/plain": [
       "16.97248929735085"
      ]
     },
     "execution_count": 37,
     "metadata": {},
     "output_type": "execute_result"
    }
   ],
   "source": [
    "def rmse(predicted, targets):\n",
    "    \"\"\"\n",
    "    Computes root mean squared error of two numpy ndarrays\n",
    "    \n",
    "    Args:\n",
    "        predicted: an ndarray of predictions\n",
    "        targets: an ndarray of target values\n",
    "    \n",
    "    Returns:\n",
    "        The root mean squared error as a float\n",
    "    \"\"\"\n",
    "    return (np.sqrt(np.mean((targets-predicted)**2)))\n",
    "\n",
    "rmse(train_prediction2, df2[\"horsepower\"])"
   ]
  },
  {
   "cell_type": "code",
   "execution_count": 38,
   "metadata": {},
   "outputs": [
    {
     "data": {
      "image/png": "[encoded data removed]",
      "text/plain": [
       "<Figure size 432x288 with 1 Axes>"
      ]
     },
     "metadata": {},
     "output_type": "display_data"
    }
   ],
   "source": [
    "filename2 = \"no_comma_auto_mpg.csv\"\n",
    "df2 = pd.read_csv (filename2, names = column_names)\n",
    "\n",
    "#First row contains columns such as \"Column 1\", \"Column2\" etc. I had to delete them first. Clearing the first row:\n",
    "df2.drop(df2.head(1).index, inplace=True)\n",
    "#df2 wanted to see how my new data frame looks like\n",
    "#df2.dtypes Ran this code and saw that all data is stored as \"objects\".So, I had to convert all to numeric before doing scattering with this data.\n",
    "# Otherwise, it gives an error\n",
    "df2[['mpg','cylinders','displacement','horsepower', 'weight', 'acceleration', 'year', 'origin']] = df2[['mpg','cylinders','displacement','horsepower','weight','acceleration','year','origin']].apply(pd.to_numeric)\n",
    "ax3 = df2.plot.scatter(x='weight',y='horsepower', c=\"DarkBlue\")"
   ]
  },
  {
   "cell_type": "code",
   "execution_count": 39,
   "metadata": {},
   "outputs": [],
   "source": [
    "from sklearn import linear_model\n"
   ]
  },
  {
   "cell_type": "code",
   "execution_count": 40,
   "metadata": {},
   "outputs": [
    {
     "name": "stdout",
     "output_type": "stream",
     "text": [
      "-12.1834847034594\n",
      "[0.03917702]\n"
     ]
    }
   ],
   "source": [
    "# Initialize model\n",
    "regression_model = linear_model.LinearRegression()\n",
    "\n",
    "# Train the model using the no_comma_auto_mpg data\n",
    "regression_model.fit(X = pd.DataFrame(df2[\"weight\"]), \n",
    "                     y = df2[\"horsepower\"])\n",
    "\n",
    "# Check trained model y-intercept\n",
    "print(regression_model.intercept_)\n",
    "\n",
    "# Check trained model coefficients\n",
    "print(regression_model.coef_)"
   ]
  },
  {
   "cell_type": "code",
   "execution_count": 41,
   "metadata": {},
   "outputs": [],
   "source": [
    "# The output above shows the model intercept and coefficients used to create the best fit line. \n",
    "# In this case the y-intercept term is set to -12.1834 and the coefficient for the weight variable is 0.0391. \n",
    "# In other words, the model fit the line horsepower = -12.1834 + 0.0391*weight.\n",
    "# Now, we need to find the variance.It is done so by using the model.score() function:"
   ]
  },
  {
   "cell_type": "code",
   "execution_count": 42,
   "metadata": {},
   "outputs": [
    {
     "data": {
      "text/plain": [
       "0.74742549968982"
      ]
     },
     "execution_count": 42,
     "metadata": {},
     "output_type": "execute_result"
    }
   ],
   "source": [
    "regression_model.score(X = pd.DataFrame(df2[\"weight\"]), \n",
    "                       y = df2[\"horsepower\"])"
   ]
  },
  {
   "cell_type": "code",
   "execution_count": 43,
   "metadata": {},
   "outputs": [],
   "source": [
    "# The output of the score function for linear regression is \"R-squared\" (variance).\n",
    "# Variance is a value that ranges from 0 to 1 which describes the proportion of variance in the response variable that is explained by the model.\n",
    "# In this case, mpg explains 74% of the variance in horsepower.\n",
    "# The R-squared measure is based on the residuals: differences between what the model predicts for each data point and the actual value of each data point.\n",
    "# We can extract the model's residuals by making a prediction with the model on the data and then subtracting the actual value from each prediction:"
   ]
  },
  {
   "cell_type": "code",
   "execution_count": 44,
   "metadata": {},
   "outputs": [
    {
     "data": {
      "text/plain": [
       "count    3.920000e+02\n",
       "mean     1.123818e-15\n",
       "std      1.934442e+01\n",
       "min     -5.027204e+01\n",
       "25%     -1.228542e+01\n",
       "50%     -5.571301e-01\n",
       "75%      9.062734e+00\n",
       "max      1.162832e+02\n",
       "Name: horsepower, dtype: float64"
      ]
     },
     "execution_count": 44,
     "metadata": {},
     "output_type": "execute_result"
    }
   ],
   "source": [
    "train_prediction3 = regression_model.predict(X = pd.DataFrame(df2[\"weight\"]))\n",
    "\n",
    "# Actual - prediction = residuals\n",
    "residuals3 = df2[\"horsepower\"] - train_prediction3\n",
    "\n",
    "residuals3.describe()"
   ]
  },
  {
   "cell_type": "code",
   "execution_count": 45,
   "metadata": {},
   "outputs": [],
   "source": [
    "# R-squared is calculated as 1 - (SSResiduals/SSTotal) where SSResiduals is the sum of the squares of the model residuals and SSTotal is the sum of the squares of the difference between each data point and the mean of the data.\n",
    "# We could calculate R-squared by hand like this:"
   ]
  },
  {
   "cell_type": "code",
   "execution_count": 46,
   "metadata": {},
   "outputs": [
    {
     "data": {
      "text/plain": [
       "0.74742549968982"
      ]
     },
     "execution_count": 46,
     "metadata": {},
     "output_type": "execute_result"
    }
   ],
   "source": [
    "SSResiduals3 = (residuals3**2).sum()\n",
    "\n",
    "SSTotal3 = ((df2[\"horsepower\"] - df2[\"horsepower\"].mean())**2).sum()\n",
    "\n",
    "# R-squared\n",
    "1 - (SSResiduals3/SSTotal3)"
   ]
  },
  {
   "cell_type": "code",
   "execution_count": 47,
   "metadata": {},
   "outputs": [],
   "source": [
    "# Now we can plot the line it fits on our scatterplot to see how well it fits the data:"
   ]
  },
  {
   "cell_type": "code",
   "execution_count": 48,
   "metadata": {},
   "outputs": [
    {
     "data": {
      "text/plain": [
       "[<matplotlib.lines.Line2D at 0x1ec3bee67b8>]"
      ]
     },
     "execution_count": 48,
     "metadata": {},
     "output_type": "execute_result"
    },
    {
     "data": {
      "image/png": "[encoded data removed]",
      "text/plain": [
       "<Figure size 576x576 with 1 Axes>"
      ]
     },
     "metadata": {},
     "output_type": "display_data"
    }
   ],
   "source": [
    "df2.plot(kind=\"scatter\",\n",
    "           x=\"weight\",\n",
    "           y=\"horsepower\",\n",
    "           figsize=(8,8),\n",
    "           color=\"black\")\n",
    "\n",
    "# Plot regression line\n",
    "plt.plot(df2[\"weight\"],      # Explanitory variable\n",
    "         train_prediction3,  # Predicted values\n",
    "         color=\"blue\")"
   ]
  },
  {
   "cell_type": "code",
   "execution_count": 49,
   "metadata": {},
   "outputs": [
    {
     "data": {
      "text/plain": [
       "((array([-2.91707214, -2.62850148, -2.46572851, -2.35005202, -2.25924608,\n",
       "         -2.18395743, -2.11932901, -2.06250202, -2.01164606, -1.96551592,\n",
       "         -1.9232246 , -1.88411705, -1.84769527, -1.81357142, -1.78143737,\n",
       "         -1.75104405, -1.72218717, -1.69469702, -1.66843096, -1.64326798,\n",
       "         -1.61910443, -1.59585088, -1.57342957, -1.55177245, -1.53081964,\n",
       "         -1.51051812, -1.49082075, -1.47168538, -1.4530742 , -1.43495315,\n",
       "         -1.41729142, -1.40006105, -1.3832366 , -1.36679482, -1.35071445,\n",
       "         -1.33497596, -1.31956136, -1.30445409, -1.2896388 , -1.27510129,\n",
       "         -1.26082838, -1.24680779, -1.23302811, -1.21947866, -1.20614946,\n",
       "         -1.19303118, -1.18011506, -1.16739287, -1.15485687, -1.14249978,\n",
       "         -1.13031472, -1.11829522, -1.10643514, -1.09472868, -1.08317036,\n",
       "         -1.07175496, -1.06047754, -1.04933341, -1.03831809, -1.02742733,\n",
       "         -1.0166571 , -1.00600352, -0.99546292, -0.98503177, -0.97470672,\n",
       "         -0.96448454, -0.95436217, -0.94433665, -0.93440516, -0.92456499,\n",
       "         -0.91481354, -0.90514831, -0.89556691, -0.88606703, -0.87664644,\n",
       "         -0.86730303, -0.85803472, -0.84883953, -0.83971557, -0.83066098,\n",
       "         -0.82167398, -0.81275286, -0.80389596, -0.79510168, -0.78636847,\n",
       "         -0.77769482, -0.76907929, -0.76052048, -0.75201701, -0.74356758,\n",
       "         -0.7351709 , -0.72682574, -0.71853089, -0.71028519, -0.7020875 ,\n",
       "         -0.69393672, -0.68583179, -0.67777166, -0.66975533, -0.6617818 ,\n",
       "         -0.65385013, -0.64595938, -0.63810865, -0.63029706, -0.62252373,\n",
       "         -0.61478784, -0.60708857, -0.59942512, -0.59179672, -0.58420259,\n",
       "         -0.57664201, -0.56911425, -0.56161861, -0.55415438, -0.54672091,\n",
       "         -0.53931752, -0.53194357, -0.52459844, -0.5172815 , -0.50999215,\n",
       "         -0.5027298 , -0.49549387, -0.48828378, -0.481099  , -0.47393896,\n",
       "         -0.46680314, -0.45969101, -0.45260205, -0.44553577, -0.43849167,\n",
       "         -0.43146926, -0.42446806, -0.4174876 , -0.41052743, -0.40358709,\n",
       "         -0.39666614, -0.38976413, -0.38288064, -0.37601525, -0.36916753,\n",
       "         -0.36233708, -0.3555235 , -0.34872638, -0.34194533, -0.33517997,\n",
       "         -0.32842992, -0.3216948 , -0.31497424, -0.30826788, -0.30157535,\n",
       "         -0.2948963 , -0.28823039, -0.28157725, -0.27493656, -0.26830797,\n",
       "         -0.26169114, -0.25508576, -0.24849149, -0.241908  , -0.23533498,\n",
       "         -0.22877211, -0.22221909, -0.21567559, -0.20914131, -0.20261595,\n",
       "         -0.19609921, -0.18959078, -0.18309038, -0.1765977 , -0.17011246,\n",
       "         -0.16363437, -0.15716313, -0.15069847, -0.14424011, -0.13778775,\n",
       "         -0.13134113, -0.12489995, -0.11846396, -0.11203287, -0.10560641,\n",
       "         -0.09918431, -0.0927663 , -0.0863521 , -0.07994146, -0.0735341 ,\n",
       "         -0.06712975, -0.06072816, -0.05432906, -0.04793218, -0.04153727,\n",
       "         -0.03514405, -0.02875226, -0.02236165, -0.01597196, -0.00958291,\n",
       "         -0.00319426,  0.00319426,  0.00958291,  0.01597196,  0.02236165,\n",
       "          0.02875226,  0.03514405,  0.04153727,  0.04793218,  0.05432906,\n",
       "          0.06072816,  0.06712975,  0.0735341 ,  0.07994146,  0.0863521 ,\n",
       "          0.0927663 ,  0.09918431,  0.10560641,  0.11203287,  0.11846396,\n",
       "          0.12489995,  0.13134113,  0.13778775,  0.14424011,  0.15069847,\n",
       "          0.15716313,  0.16363437,  0.17011246,  0.1765977 ,  0.18309038,\n",
       "          0.18959078,  0.19609921,  0.20261595,  0.20914131,  0.21567559,\n",
       "          0.22221909,  0.22877211,  0.23533498,  0.241908  ,  0.24849149,\n",
       "          0.25508576,  0.26169114,  0.26830797,  0.27493656,  0.28157725,\n",
       "          0.28823039,  0.2948963 ,  0.30157535,  0.30826788,  0.31497424,\n",
       "          0.3216948 ,  0.32842992,  0.33517997,  0.34194533,  0.34872638,\n",
       "          0.3555235 ,  0.36233708,  0.36916753,  0.37601525,  0.38288064,\n",
       "          0.38976413,  0.39666614,  0.40358709,  0.41052743,  0.4174876 ,\n",
       "          0.42446806,  0.43146926,  0.43849167,  0.44553577,  0.45260205,\n",
       "          0.45969101,  0.46680314,  0.47393896,  0.481099  ,  0.48828378,\n",
       "          0.49549387,  0.5027298 ,  0.50999215,  0.5172815 ,  0.52459844,\n",
       "          0.53194357,  0.53931752,  0.54672091,  0.55415438,  0.56161861,\n",
       "          0.56911425,  0.57664201,  0.58420259,  0.59179672,  0.59942512,\n",
       "          0.60708857,  0.61478784,  0.62252373,  0.63029706,  0.63810865,\n",
       "          0.64595938,  0.65385013,  0.6617818 ,  0.66975533,  0.67777166,\n",
       "          0.68583179,  0.69393672,  0.7020875 ,  0.71028519,  0.71853089,\n",
       "          0.72682574,  0.7351709 ,  0.74356758,  0.75201701,  0.76052048,\n",
       "          0.76907929,  0.77769482,  0.78636847,  0.79510168,  0.80389596,\n",
       "          0.81275286,  0.82167398,  0.83066098,  0.83971557,  0.84883953,\n",
       "          0.85803472,  0.86730303,  0.87664644,  0.88606703,  0.89556691,\n",
       "          0.90514831,  0.91481354,  0.92456499,  0.93440516,  0.94433665,\n",
       "          0.95436217,  0.96448454,  0.97470672,  0.98503177,  0.99546292,\n",
       "          1.00600352,  1.0166571 ,  1.02742733,  1.03831809,  1.04933341,\n",
       "          1.06047754,  1.07175496,  1.08317036,  1.09472868,  1.10643514,\n",
       "          1.11829522,  1.13031472,  1.14249978,  1.15485687,  1.16739287,\n",
       "          1.18011506,  1.19303118,  1.20614946,  1.21947866,  1.23302811,\n",
       "          1.24680779,  1.26082838,  1.27510129,  1.2896388 ,  1.30445409,\n",
       "          1.31956136,  1.33497596,  1.35071445,  1.36679482,  1.3832366 ,\n",
       "          1.40006105,  1.41729142,  1.43495315,  1.4530742 ,  1.47168538,\n",
       "          1.49082075,  1.51051812,  1.53081964,  1.55177245,  1.57342957,\n",
       "          1.59585088,  1.61910443,  1.64326798,  1.66843096,  1.69469702,\n",
       "          1.72218717,  1.75104405,  1.78143737,  1.81357142,  1.84769527,\n",
       "          1.88411705,  1.9232246 ,  1.96551592,  2.01164606,  2.06250202,\n",
       "          2.11932901,  2.18395743,  2.25924608,  2.35005202,  2.46572851,\n",
       "          2.62850148,  2.91707214]),\n",
       "  array([-5.02720449e+01, -4.98351816e+01, -4.91113927e+01, -4.81418274e+01,\n",
       "         -4.17912063e+01, -4.11015326e+01, -3.95375416e+01, -3.85648865e+01,\n",
       "         -3.68752129e+01, -3.63887217e+01, -3.59448245e+01, -3.56158957e+01,\n",
       "         -3.54893588e+01, -3.43582870e+01, -3.35840798e+01, -3.18019206e+01,\n",
       "         -3.12948549e+01, -3.08811290e+01, -3.08518121e+01, -3.02740169e+01,\n",
       "         -3.00290947e+01, -2.95195299e+01, -2.91790324e+01, -2.87509115e+01,\n",
       "         -2.79253678e+01, -2.79155077e+01, -2.60818124e+01, -2.57294827e+01,\n",
       "         -2.48176968e+01, -2.43630853e+01, -2.39467966e+01, -2.36139237e+01,\n",
       "         -2.35747466e+01, -2.30899640e+01, -2.30358650e+01, -2.27931783e+01,\n",
       "         -2.22638933e+01, -2.21936908e+01, -2.21215164e+01, -2.19093281e+01,\n",
       "         -2.15006001e+01, -2.13072778e+01, -2.09352279e+01, -2.06903057e+01,\n",
       "         -2.06167499e+01, -2.01074487e+01, -1.99558024e+01, -1.96981938e+01,\n",
       "         -1.96373245e+01, -1.92635660e+01, -1.89763770e+01, -1.86776192e+01,\n",
       "         -1.85110510e+01, -1.83639396e+01, -1.83298244e+01, -1.82368119e+01,\n",
       "         -1.82117026e+01, -1.81702900e+01, -1.79087373e+01, -1.75828982e+01,\n",
       "         -1.75462840e+01, -1.75248552e+01, -1.74727283e+01, -1.70479606e+01,\n",
       "         -1.69978057e+01, -1.67624801e+01, -1.66305541e+01, -1.64200106e+01,\n",
       "         -1.63954920e+01, -1.63055693e+01, -1.62387839e+01, -1.60578208e+01,\n",
       "         -1.60426353e+01, -1.57196226e+01, -1.56629608e+01, -1.56068898e+01,\n",
       "         -1.55417492e+01, -1.54651037e+01, -1.52348399e+01, -1.46669048e+01,\n",
       "         -1.44758181e+01, -1.43436286e+01, -1.41863935e+01, -1.41770604e+01,\n",
       "         -1.40347472e+01, -1.37063454e+01, -1.35828982e+01, -1.33887217e+01,\n",
       "         -1.30381005e+01, -1.30189710e+01, -1.29476508e+01, -1.27027286e+01,\n",
       "         -1.25955846e+01, -1.24284895e+01, -1.24191563e+01, -1.24044979e+01,\n",
       "         -1.24044979e+01, -1.23780073e+01, -1.22545601e+01, -1.19600100e+01,\n",
       "         -1.16561905e+01, -1.16060355e+01, -1.15936126e+01, -1.13633488e+01,\n",
       "         -1.11203986e+01, -1.01900103e+01, -1.01547773e+01, -1.00485514e+01,\n",
       "         -9.88053817e+00, -9.64718459e+00, -9.45129950e+00, -9.43157924e+00,\n",
       "         -9.22412549e+00, -9.19145532e+00, -9.17002653e+00, -8.64889313e+00,\n",
       "         -8.25626867e+00, -8.20466872e+00, -8.06768090e+00, -8.05867504e+00,\n",
       "         -7.72074031e+00, -7.65875326e+00, -7.16154765e+00, -7.04796065e+00,\n",
       "         -6.74920294e+00, -6.58657879e+00, -6.37800727e+00, -6.12940447e+00,\n",
       "         -5.76892319e+00, -5.53188905e+00, -5.49751035e+00, -5.48002561e+00,\n",
       "         -5.48002561e+00, -5.28808457e+00, -5.19283657e+00, -5.16858149e+00,\n",
       "         -5.13926459e+00, -5.13926459e+00, -5.08799193e+00, -5.00937440e+00,\n",
       "         -4.96566256e+00, -4.91688890e+00, -4.88251020e+00, -4.85122128e+00,\n",
       "         -4.76162587e+00, -4.75091147e+00, -4.64015076e+00, -4.59308564e+00,\n",
       "         -4.57501012e+00, -4.24299147e+00, -4.16746373e+00, -4.04966918e+00,\n",
       "         -4.02541410e+00, -4.00595733e+00, -4.00569384e+00, -3.90702877e+00,\n",
       "         -3.83938913e+00, -3.80954526e+00, -3.80501043e+00, -3.75064798e+00,\n",
       "         -3.69733950e+00, -3.62831861e+00, -3.45945109e+00, -3.24384574e+00,\n",
       "         -3.19283657e+00, -2.93351937e+00, -2.86449848e+00, -2.73848854e+00,\n",
       "         -2.73710729e+00, -2.73257247e+00, -2.41915631e+00, -2.38931244e+00,\n",
       "         -2.26356600e+00, -2.04710638e+00, -1.97834898e+00, -1.96822536e+00,\n",
       "         -1.95409389e+00, -1.93864498e+00, -1.91491687e+00, -1.87265007e+00,\n",
       "         -1.71705975e+00, -1.67932778e+00, -1.55726189e+00, -1.55246358e+00,\n",
       "         -1.55246358e+00, -1.46904773e+00, -1.41015045e+00, -1.36729287e+00,\n",
       "         -1.31457517e+00, -1.09982408e+00, -1.06768090e+00, -9.47650835e-01,\n",
       "         -8.71795805e-01, -8.08100212e-01, -7.45849663e-01, -6.94840491e-01,\n",
       "         -4.19419805e-01, -1.91128034e-01, -1.91128034e-01, -1.81267907e-01,\n",
       "         -1.46362224e-01,  5.40576990e-02,  6.64806282e-02,  7.63407557e-02,\n",
       "          1.86510693e-01,  3.32831660e-01,  3.85812858e-01,  5.06433699e-01,\n",
       "          6.02272475e-01,  7.98157571e-01,  8.29446488e-01,  8.50021010e-01,\n",
       "          9.30347074e-01,  9.45532502e-01,  1.02533158e+00,  1.08705515e+00,\n",
       "          1.41710177e+00,  1.42781617e+00,  1.53969464e+00,  1.64059523e+00,\n",
       "          1.65130962e+00,  1.66485031e+00,  1.71441444e+00,  1.90188445e+00,\n",
       "          2.02842137e+00,  2.04702386e+00,  2.13017622e+00,  2.20064216e+00,\n",
       "          2.20064216e+00,  2.24093693e+00,  2.27899620e+00,  2.32717907e+00,\n",
       "          2.41710177e+00,  2.44214733e+00,  2.45877780e+00,  2.63947747e+00,\n",
       "          2.72657388e+00,  2.74629413e+00,  2.75700853e+00,  2.78829744e+00,\n",
       "          2.83930662e+00,  2.91089031e+00,  2.91877841e+00,  3.00475706e+00,\n",
       "          3.12452364e+00,  3.23193107e+00,  3.33394942e+00,  3.42019156e+00,\n",
       "          3.42157281e+00,  3.77672878e+00,  3.93231910e+00,  4.18795574e+00,\n",
       "          4.22121668e+00,  4.31252063e+00,  4.35452394e+00,  4.38581286e+00,\n",
       "          4.46416690e+00,  4.59832842e+00,  4.90720975e+00,  5.17665057e+00,\n",
       "          5.22121668e+00,  5.25447762e+00,  5.39481872e+00,  5.59241235e+00,\n",
       "          5.85731834e+00,  5.98418254e+00,  6.14115411e+00,  6.21050228e+00,\n",
       "          6.27222585e+00,  6.29759869e+00,  6.29759869e+00,  6.35452394e+00,\n",
       "          6.68457056e+00,  6.70599935e+00,  6.80716343e+00,  6.89031579e+00,\n",
       "          6.98332827e+00,  7.28294025e+00,  7.40441535e+00,  7.48783120e+00,\n",
       "          7.66485031e+00,  7.72262983e+00,  7.75700853e+00,  7.76772292e+00,\n",
       "          7.82602942e+00,  7.82602942e+00,  7.84522269e+00,  8.24967930e+00,\n",
       "          8.61298687e+00,  8.65328165e+00,  8.82662020e+00,  8.89314208e+00,\n",
       "          8.91568863e+00,  8.99121637e+00,  9.27728766e+00,  9.47797107e+00,\n",
       "          9.64256725e+00,  9.70652634e+00,  9.73557974e+00,  9.74090504e+00,\n",
       "          1.08990582e+01,  1.09754402e+01,  1.10058748e+01,  1.12105023e+01,\n",
       "          1.13215265e+01,  1.15112320e+01,  1.15898495e+01,  1.16718841e+01,\n",
       "          1.16854248e+01,  1.18237939e+01,  1.22874113e+01,  1.22972714e+01,\n",
       "          1.29813562e+01,  1.31166355e+01,  1.34475364e+01,  1.34867134e+01,\n",
       "          1.38911701e+01,  1.41380643e+01,  1.41676447e+01,  1.41800676e+01,\n",
       "          1.42118835e+01,  1.42555954e+01,  1.45464650e+01,  1.45701293e+01,\n",
       "          1.48387158e+01,  1.49627537e+01,  1.50737780e+01,  1.53922559e+01,\n",
       "          1.54261076e+01,  1.55611234e+01,  1.56219927e+01,  1.59260757e+01,\n",
       "          1.61788861e+01,  1.67364340e+01,  1.67364340e+01,  1.70315112e+01,\n",
       "          1.70619458e+01,  1.71594931e+01,  1.73750985e+01,  1.73948187e+01,\n",
       "          1.76837163e+01,  1.79010302e+01,  1.79117446e+01,  1.79382352e+01,\n",
       "          1.79726139e+01,  1.79909529e+01,  1.80763408e+01,  1.83254705e+01,\n",
       "          1.83254705e+01,  1.89714961e+01,  1.90106731e+01,  1.90112001e+01,\n",
       "          1.90763408e+01,  1.97978303e+01,  1.98970861e+01,  2.03232350e+01,\n",
       "          2.05881410e+01,  2.14055331e+01,  2.23378935e+01,  2.25416667e+01,\n",
       "          2.30021943e+01,  2.42135921e+01,  2.55191201e+01,  2.56211385e+01,\n",
       "          2.65577064e+01,  2.68564641e+01,  2.75712470e+01,  2.76887781e+01,\n",
       "          2.89427062e+01,  2.90207968e+01,  3.01783591e+01,  3.07936227e+01,\n",
       "          3.25027531e+01,  3.27428771e+01,  3.74880947e+01,  3.76620240e+01,\n",
       "          3.86763552e+01,  4.01160448e+01,  4.07448491e+01,  4.16802992e+01,\n",
       "          4.22186539e+01,  4.25957656e+01,  4.32180631e+01,  4.63815415e+01,\n",
       "          4.86388867e+01,  5.05097870e+01,  5.13519611e+01,  5.82521783e+01,\n",
       "          6.16067435e+01,  6.38251752e+01,  7.45841970e+01,  1.16283204e+02])),\n",
       " (18.915194008281166, -2.108775267184455e-15, 0.9729192088165417))"
      ]
     },
     "execution_count": 49,
     "metadata": {},
     "output_type": "execute_result"
    },
    {
     "data": {
      "image/png": "[encoded data removed]",
      "text/plain": [
       "<Figure size 576x576 with 1 Axes>"
      ]
     },
     "metadata": {},
     "output_type": "display_data"
    }
   ],
   "source": [
    "plt.figure(figsize=(8,8))\n",
    "\n",
    "stats.probplot(residuals3, dist=\"norm\", plot=plt)"
   ]
  },
  {
   "cell_type": "code",
   "execution_count": 50,
   "metadata": {},
   "outputs": [],
   "source": [
    "# When residuals are normally distributed, they tend to lie along the straight line on the Q-Q plot.\n",
    "# In this case residuals appear to follow a nice linear pattern\n",
    "# After making model predictions, it is useful to calculate root-mean-squared-error. \n",
    "# Root mean squared error (RMSE) is a common evaluation metric for predictions involving real numbers. \n",
    "# Root mean squared error is square root of the average of the squared error (residuals.). \n",
    "# Lower values of RMSE means a better fit"
   ]
  },
  {
   "cell_type": "code",
   "execution_count": 51,
   "metadata": {},
   "outputs": [
    {
     "data": {
      "text/plain": [
       "19.319731890134335"
      ]
     },
     "execution_count": 51,
     "metadata": {},
     "output_type": "execute_result"
    }
   ],
   "source": [
    "def rmse(predicted, targets):\n",
    "    \"\"\"\n",
    "    Computes root mean squared error of two numpy ndarrays\n",
    "    \n",
    "    Args:\n",
    "        predicted: an ndarray of predictions\n",
    "        targets: an ndarray of target values\n",
    "    \n",
    "    Returns:\n",
    "        The root mean squared error as a float\n",
    "    \"\"\"\n",
    "    return (np.sqrt(np.mean((targets-predicted)**2)))\n",
    "\n",
    "rmse(train_prediction3, df2[\"horsepower\"])"
   ]
  },
  {
   "cell_type": "code",
   "execution_count": 52,
   "metadata": {},
   "outputs": [
    {
     "data": {
      "image/png": "[encoded data removed]",
      "text/plain": [
       "<Figure size 432x288 with 1 Axes>"
      ]
     },
     "metadata": {},
     "output_type": "display_data"
    }
   ],
   "source": [
    "filename2 = \"no_comma_auto_mpg.csv\"\n",
    "df2 = pd.read_csv (filename2, names = column_names)\n",
    "#First row contains columns such as \"Column 1\", \"Column2\" etc. I had to delete them first. Clearing the first row:\n",
    "df2.drop(df2.head(1).index, inplace=True)\n",
    "#df2 wanted to see how my new data frame looks like\n",
    "#df2.dtypes Ran this code and saw that all data is stored as \"objects\".So, I had to convert all to numeric before doing scattering with this data.\n",
    "# Otherwise, it gives an error\n",
    "df2[['mpg','cylinders','displacement','horsepower', 'weight', 'acceleration', 'year', 'origin']] = df2[['mpg','cylinders','displacement','horsepower','weight','acceleration','year','origin']].apply(pd.to_numeric)\n",
    "\n",
    "ax4 = df.plot.scatter(x='acceleration',y='horsepower', c=\"DarkBlue\")"
   ]
  },
  {
   "cell_type": "code",
   "execution_count": 53,
   "metadata": {},
   "outputs": [],
   "source": [
    "from sklearn import linear_model"
   ]
  },
  {
   "cell_type": "code",
   "execution_count": 54,
   "metadata": {},
   "outputs": [
    {
     "name": "stdout",
     "output_type": "stream",
     "text": [
      "253.90744493958348\n",
      "[-9.61552779]\n"
     ]
    }
   ],
   "source": [
    "# Initialize model\n",
    "regression_model = linear_model.LinearRegression()\n",
    "\n",
    "# Train the model using the no_comma_auto_mpg data\n",
    "regression_model.fit(X = pd.DataFrame(df2[\"acceleration\"]), \n",
    "                     y = df2[\"horsepower\"])\n",
    "\n",
    "# Check trained model y-intercept\n",
    "print(regression_model.intercept_)\n",
    "\n",
    "# Check trained model coefficients\n",
    "print(regression_model.coef_)"
   ]
  },
  {
   "cell_type": "code",
   "execution_count": 55,
   "metadata": {},
   "outputs": [],
   "source": [
    "# The output above shows the model intercept and coefficients used to create the best fit line. \n",
    "# In this case the y-intercept term is set to 253.9074 and the coefficient for the acceleration variable is -9.6155. \n",
    "# In other words, the model fit the line horsepower = 253.9074 - 9.6155*acceleration.\n",
    "# Now, we need to find the variance.It is done so by using the model.score() function:"
   ]
  },
  {
   "cell_type": "code",
   "execution_count": 56,
   "metadata": {},
   "outputs": [
    {
     "data": {
      "text/plain": [
       "0.47499045146486873"
      ]
     },
     "execution_count": 56,
     "metadata": {},
     "output_type": "execute_result"
    }
   ],
   "source": [
    "regression_model.score(X = pd.DataFrame(df2[\"acceleration\"]), \n",
    "                       y = df2[\"horsepower\"])"
   ]
  },
  {
   "cell_type": "code",
   "execution_count": 57,
   "metadata": {},
   "outputs": [],
   "source": [
    "# The output of the score function for linear regression is \"R-squared\" (variance).\n",
    "# Variance is a value that ranges from 0 to 1 which describes the proportion of variance in the response variable that is explained by the model.\n",
    "# In this case, mpg explains 47% of the variance in horsepower.\n",
    "# The R-squared measure is based on the residuals: differences between what the model predicts for each data point and the actual value of each data point.\n",
    "# We can extract the model's residuals by making a prediction with the model on the data and then subtracting the actual value from each prediction:"
   ]
  },
  {
   "cell_type": "code",
   "execution_count": 58,
   "metadata": {},
   "outputs": [
    {
     "data": {
      "text/plain": [
       "count    3.920000e+02\n",
       "mean    -7.395445e-15\n",
       "std      2.788975e+01\n",
       "min     -6.559801e+01\n",
       "25%     -1.771298e+01\n",
       "50%     -2.462882e+00\n",
       "75%      1.787334e+01\n",
       "max      1.169798e+02\n",
       "Name: horsepower, dtype: float64"
      ]
     },
     "execution_count": 58,
     "metadata": {},
     "output_type": "execute_result"
    }
   ],
   "source": [
    "train_prediction4 = regression_model.predict(X = pd.DataFrame(df2[\"acceleration\"]))\n",
    "\n",
    "# Actual - prediction = residuals\n",
    "residuals4 = df2[\"horsepower\"] - train_prediction4\n",
    "\n",
    "residuals4.describe()"
   ]
  },
  {
   "cell_type": "code",
   "execution_count": 59,
   "metadata": {},
   "outputs": [],
   "source": [
    "# R-squared is calculated as 1 - (SSResiduals/SSTotal) where SSResiduals is the sum of the squares of the model residuals and SSTotal is the sum of the squares of the difference between each data point and the mean of the data.\n",
    "# We could calculate R-squared by hand like this:"
   ]
  },
  {
   "cell_type": "code",
   "execution_count": 60,
   "metadata": {},
   "outputs": [
    {
     "data": {
      "text/plain": [
       "0.47499045146486873"
      ]
     },
     "execution_count": 60,
     "metadata": {},
     "output_type": "execute_result"
    }
   ],
   "source": [
    "SSResiduals4 = (residuals4**2).sum()\n",
    "\n",
    "SSTotal4 = ((df2[\"horsepower\"] - df2[\"horsepower\"].mean())**2).sum()\n",
    "\n",
    "# R-squared\n",
    "1 - (SSResiduals4/SSTotal4)"
   ]
  },
  {
   "cell_type": "code",
   "execution_count": 61,
   "metadata": {},
   "outputs": [],
   "source": [
    "# Now we can plot the line it fits on our scatterplot to see how well it fits the data:"
   ]
  },
  {
   "cell_type": "code",
   "execution_count": 62,
   "metadata": {},
   "outputs": [
    {
     "data": {
      "text/plain": [
       "[<matplotlib.lines.Line2D at 0x1ec3bdb3550>]"
      ]
     },
     "execution_count": 62,
     "metadata": {},
     "output_type": "execute_result"
    },
    {
     "data": {
      "image/png": "[encoded data removed]",
      "text/plain": [
       "<Figure size 576x576 with 1 Axes>"
      ]
     },
     "metadata": {},
     "output_type": "display_data"
    }
   ],
   "source": [
    "df2.plot(kind=\"scatter\",\n",
    "           x=\"acceleration\",\n",
    "           y=\"horsepower\",\n",
    "           figsize=(8,8),\n",
    "           color=\"black\")\n",
    "\n",
    "# Plot regression line\n",
    "plt.plot(df2[\"acceleration\"],      # Explanitory variable\n",
    "         train_prediction4,  # Predicted values\n",
    "         color=\"blue\")"
   ]
  },
  {
   "cell_type": "code",
   "execution_count": 63,
   "metadata": {},
   "outputs": [
    {
     "data": {
      "text/plain": [
       "((array([-2.91707214, -2.62850148, -2.46572851, -2.35005202, -2.25924608,\n",
       "         -2.18395743, -2.11932901, -2.06250202, -2.01164606, -1.96551592,\n",
       "         -1.9232246 , -1.88411705, -1.84769527, -1.81357142, -1.78143737,\n",
       "         -1.75104405, -1.72218717, -1.69469702, -1.66843096, -1.64326798,\n",
       "         -1.61910443, -1.59585088, -1.57342957, -1.55177245, -1.53081964,\n",
       "         -1.51051812, -1.49082075, -1.47168538, -1.4530742 , -1.43495315,\n",
       "         -1.41729142, -1.40006105, -1.3832366 , -1.36679482, -1.35071445,\n",
       "         -1.33497596, -1.31956136, -1.30445409, -1.2896388 , -1.27510129,\n",
       "         -1.26082838, -1.24680779, -1.23302811, -1.21947866, -1.20614946,\n",
       "         -1.19303118, -1.18011506, -1.16739287, -1.15485687, -1.14249978,\n",
       "         -1.13031472, -1.11829522, -1.10643514, -1.09472868, -1.08317036,\n",
       "         -1.07175496, -1.06047754, -1.04933341, -1.03831809, -1.02742733,\n",
       "         -1.0166571 , -1.00600352, -0.99546292, -0.98503177, -0.97470672,\n",
       "         -0.96448454, -0.95436217, -0.94433665, -0.93440516, -0.92456499,\n",
       "         -0.91481354, -0.90514831, -0.89556691, -0.88606703, -0.87664644,\n",
       "         -0.86730303, -0.85803472, -0.84883953, -0.83971557, -0.83066098,\n",
       "         -0.82167398, -0.81275286, -0.80389596, -0.79510168, -0.78636847,\n",
       "         -0.77769482, -0.76907929, -0.76052048, -0.75201701, -0.74356758,\n",
       "         -0.7351709 , -0.72682574, -0.71853089, -0.71028519, -0.7020875 ,\n",
       "         -0.69393672, -0.68583179, -0.67777166, -0.66975533, -0.6617818 ,\n",
       "         -0.65385013, -0.64595938, -0.63810865, -0.63029706, -0.62252373,\n",
       "         -0.61478784, -0.60708857, -0.59942512, -0.59179672, -0.58420259,\n",
       "         -0.57664201, -0.56911425, -0.56161861, -0.55415438, -0.54672091,\n",
       "         -0.53931752, -0.53194357, -0.52459844, -0.5172815 , -0.50999215,\n",
       "         -0.5027298 , -0.49549387, -0.48828378, -0.481099  , -0.47393896,\n",
       "         -0.46680314, -0.45969101, -0.45260205, -0.44553577, -0.43849167,\n",
       "         -0.43146926, -0.42446806, -0.4174876 , -0.41052743, -0.40358709,\n",
       "         -0.39666614, -0.38976413, -0.38288064, -0.37601525, -0.36916753,\n",
       "         -0.36233708, -0.3555235 , -0.34872638, -0.34194533, -0.33517997,\n",
       "         -0.32842992, -0.3216948 , -0.31497424, -0.30826788, -0.30157535,\n",
       "         -0.2948963 , -0.28823039, -0.28157725, -0.27493656, -0.26830797,\n",
       "         -0.26169114, -0.25508576, -0.24849149, -0.241908  , -0.23533498,\n",
       "         -0.22877211, -0.22221909, -0.21567559, -0.20914131, -0.20261595,\n",
       "         -0.19609921, -0.18959078, -0.18309038, -0.1765977 , -0.17011246,\n",
       "         -0.16363437, -0.15716313, -0.15069847, -0.14424011, -0.13778775,\n",
       "         -0.13134113, -0.12489995, -0.11846396, -0.11203287, -0.10560641,\n",
       "         -0.09918431, -0.0927663 , -0.0863521 , -0.07994146, -0.0735341 ,\n",
       "         -0.06712975, -0.06072816, -0.05432906, -0.04793218, -0.04153727,\n",
       "         -0.03514405, -0.02875226, -0.02236165, -0.01597196, -0.00958291,\n",
       "         -0.00319426,  0.00319426,  0.00958291,  0.01597196,  0.02236165,\n",
       "          0.02875226,  0.03514405,  0.04153727,  0.04793218,  0.05432906,\n",
       "          0.06072816,  0.06712975,  0.0735341 ,  0.07994146,  0.0863521 ,\n",
       "          0.0927663 ,  0.09918431,  0.10560641,  0.11203287,  0.11846396,\n",
       "          0.12489995,  0.13134113,  0.13778775,  0.14424011,  0.15069847,\n",
       "          0.15716313,  0.16363437,  0.17011246,  0.1765977 ,  0.18309038,\n",
       "          0.18959078,  0.19609921,  0.20261595,  0.20914131,  0.21567559,\n",
       "          0.22221909,  0.22877211,  0.23533498,  0.241908  ,  0.24849149,\n",
       "          0.25508576,  0.26169114,  0.26830797,  0.27493656,  0.28157725,\n",
       "          0.28823039,  0.2948963 ,  0.30157535,  0.30826788,  0.31497424,\n",
       "          0.3216948 ,  0.32842992,  0.33517997,  0.34194533,  0.34872638,\n",
       "          0.3555235 ,  0.36233708,  0.36916753,  0.37601525,  0.38288064,\n",
       "          0.38976413,  0.39666614,  0.40358709,  0.41052743,  0.4174876 ,\n",
       "          0.42446806,  0.43146926,  0.43849167,  0.44553577,  0.45260205,\n",
       "          0.45969101,  0.46680314,  0.47393896,  0.481099  ,  0.48828378,\n",
       "          0.49549387,  0.5027298 ,  0.50999215,  0.5172815 ,  0.52459844,\n",
       "          0.53194357,  0.53931752,  0.54672091,  0.55415438,  0.56161861,\n",
       "          0.56911425,  0.57664201,  0.58420259,  0.59179672,  0.59942512,\n",
       "          0.60708857,  0.61478784,  0.62252373,  0.63029706,  0.63810865,\n",
       "          0.64595938,  0.65385013,  0.6617818 ,  0.66975533,  0.67777166,\n",
       "          0.68583179,  0.69393672,  0.7020875 ,  0.71028519,  0.71853089,\n",
       "          0.72682574,  0.7351709 ,  0.74356758,  0.75201701,  0.76052048,\n",
       "          0.76907929,  0.77769482,  0.78636847,  0.79510168,  0.80389596,\n",
       "          0.81275286,  0.82167398,  0.83066098,  0.83971557,  0.84883953,\n",
       "          0.85803472,  0.86730303,  0.87664644,  0.88606703,  0.89556691,\n",
       "          0.90514831,  0.91481354,  0.92456499,  0.93440516,  0.94433665,\n",
       "          0.95436217,  0.96448454,  0.97470672,  0.98503177,  0.99546292,\n",
       "          1.00600352,  1.0166571 ,  1.02742733,  1.03831809,  1.04933341,\n",
       "          1.06047754,  1.07175496,  1.08317036,  1.09472868,  1.10643514,\n",
       "          1.11829522,  1.13031472,  1.14249978,  1.15485687,  1.16739287,\n",
       "          1.18011506,  1.19303118,  1.20614946,  1.21947866,  1.23302811,\n",
       "          1.24680779,  1.26082838,  1.27510129,  1.2896388 ,  1.30445409,\n",
       "          1.31956136,  1.33497596,  1.35071445,  1.36679482,  1.3832366 ,\n",
       "          1.40006105,  1.41729142,  1.43495315,  1.4530742 ,  1.47168538,\n",
       "          1.49082075,  1.51051812,  1.53081964,  1.55177245,  1.57342957,\n",
       "          1.59585088,  1.61910443,  1.64326798,  1.66843096,  1.69469702,\n",
       "          1.72218717,  1.75104405,  1.78143737,  1.81357142,  1.84769527,\n",
       "          1.88411705,  1.9232246 ,  1.96551592,  2.01164606,  2.06250202,\n",
       "          2.11932901,  2.18395743,  2.25924608,  2.35005202,  2.46572851,\n",
       "          2.62850148,  2.91707214]),\n",
       "  array([-6.55980059e+01, -5.83673225e+01, -5.69824781e+01, -5.42131614e+01,\n",
       "         -5.11362670e+01, -4.95591864e+01, -4.94438447e+01, -4.92900558e+01,\n",
       "         -4.82900558e+01, -4.76360808e+01, -4.73669503e+01, -4.58671364e+01,\n",
       "         -4.49055836e+01, -4.47898697e+01, -4.42900558e+01, -4.35591864e+01,\n",
       "         -4.33669503e+01, -4.32512364e+01, -4.27514225e+01, -4.26745281e+01,\n",
       "         -4.06360808e+01, -4.04438447e+01, -4.03285031e+01, -3.96360808e+01,\n",
       "         -3.94822920e+01, -3.94822920e+01, -3.94822920e+01, -3.90974475e+01,\n",
       "         -3.84822920e+01, -3.78667642e+01, -3.69824781e+01, -3.65591864e+01,\n",
       "         -3.64822920e+01, -3.64822920e+01, -3.62127891e+01, -3.59436586e+01,\n",
       "         -3.54438447e+01, -3.48667642e+01, -3.40978197e+01, -3.37133475e+01,\n",
       "         -3.35972614e+01, -3.34050252e+01, -3.32900558e+01, -3.31358947e+01,\n",
       "         -3.30590003e+01, -3.27898697e+01, -3.27514225e+01, -3.26357086e+01,\n",
       "         -3.22127891e+01, -3.20590003e+01, -3.15976336e+01, -3.12127891e+01,\n",
       "         -3.11358947e+01, -3.02519809e+01, -2.98667642e+01, -2.98667642e+01,\n",
       "         -2.96745281e+01, -2.96745281e+01, -2.92900558e+01, -2.92127891e+01,\n",
       "         -2.89055836e+01, -2.82900558e+01, -2.80978197e+01, -2.74434725e+01,\n",
       "         -2.72512364e+01, -2.70978197e+01, -2.64822920e+01, -2.64822920e+01,\n",
       "         -2.64822920e+01, -2.64822920e+01, -2.62896836e+01, -2.55588141e+01,\n",
       "         -2.50590003e+01, -2.44822920e+01, -2.42900558e+01, -2.42516086e+01,\n",
       "         -2.42512364e+01, -2.39821058e+01, -2.37898697e+01, -2.34438447e+01,\n",
       "         -2.27517948e+01, -2.24822920e+01, -2.23669503e+01, -2.23665780e+01,\n",
       "         -2.14050252e+01, -2.12127891e+01, -2.08286892e+01, -2.07133475e+01,\n",
       "         -2.07129753e+01, -2.04434725e+01, -1.96745281e+01, -1.89436586e+01,\n",
       "         -1.88667642e+01, -1.86360808e+01, -1.84434725e+01, -1.80205530e+01,\n",
       "         -1.79052114e+01, -1.78283169e+01, -1.76745281e+01, -1.75588141e+01,\n",
       "         -1.74822920e+01, -1.74822920e+01, -1.74822920e+01, -1.74046530e+01,\n",
       "         -1.73665780e+01, -1.70586280e+01, -1.69832226e+01, -1.69821058e+01,\n",
       "         -1.68667642e+01, -1.67894975e+01, -1.67517948e+01, -1.66741558e+01,\n",
       "         -1.65976336e+01, -1.64822920e+01, -1.60590003e+01, -1.57510502e+01,\n",
       "         -1.55591864e+01, -1.54434725e+01, -1.53662058e+01, -1.52512364e+01,\n",
       "         -1.50590003e+01, -1.48671364e+01, -1.48667642e+01, -1.48667642e+01,\n",
       "         -1.48667642e+01, -1.46745281e+01, -1.46745281e+01, -1.40978197e+01,\n",
       "         -1.40978197e+01, -1.40978197e+01, -1.40590003e+01, -1.38279447e+01,\n",
       "         -1.36360808e+01, -1.31358947e+01, -1.31355224e+01, -1.29821058e+01,\n",
       "         -1.29444031e+01, -1.26745281e+01, -1.25599309e+01, -1.22904281e+01,\n",
       "         -1.22900558e+01, -1.22512364e+01, -1.22127891e+01, -1.20590003e+01,\n",
       "         -1.18667642e+01, -1.18279447e+01, -1.18279447e+01, -1.15976336e+01,\n",
       "         -1.12124169e+01, -1.09048391e+01, -1.07891252e+01, -1.06357086e+01,\n",
       "         -1.04438447e+01, -1.04434725e+01, -1.04050252e+01, -1.02124169e+01,\n",
       "         -1.00590003e+01, -9.86676416e+00, -9.86676416e+00, -9.67452805e+00,\n",
       "         -9.67452805e+00, -9.52111143e+00, -9.48229195e+00, -9.29005585e+00,\n",
       "         -9.28968359e+00, -9.25123637e+00, -9.09781974e+00, -8.86676416e+00,\n",
       "         -8.52111143e+00, -8.32813081e+00, -8.02018078e+00, -7.86676416e+00,\n",
       "         -7.44347247e+00, -7.25123637e+00, -7.25123637e+00, -7.21353367e+00,\n",
       "         -6.21241689e+00, -5.98136130e+00, -5.82831694e+00, -5.44347247e+00,\n",
       "         -5.25123637e+00, -5.05900026e+00, -5.05900026e+00, -5.05862800e+00,\n",
       "         -4.86676416e+00, -4.86676416e+00, -4.82794468e+00, -4.71260302e+00,\n",
       "         -4.28931133e+00, -4.28931133e+00, -4.21278915e+00, -4.21241689e+00,\n",
       "         -3.94328634e+00, -3.90483912e+00, -3.67415579e+00, -2.48229195e+00,\n",
       "         -2.44347247e+00, -2.36620577e+00, -2.09781974e+00, -1.48191969e+00,\n",
       "         -1.25123637e+00, -1.21316141e+00, -9.43658600e-01, -5.59186393e-01,\n",
       "         -4.43472470e-01, -2.51608626e-01, -2.51236366e-01, -5.90002626e-02,\n",
       "         -5.90002626e-02, -5.90002626e-02,  1.33235841e-01,  3.25471945e-01,\n",
       "          3.25844205e-01,  4.41185867e-01,  7.87583114e-01,  8.26402595e-01,\n",
       "          1.36429143e+00,  1.47963309e+00,  1.55652753e+00,  1.86336078e+00,\n",
       "          1.86336078e+00,  1.86373304e+00,  1.97944696e+00,  1.97981922e+00,\n",
       "          2.44118587e+00,  2.74950815e+00,  3.01789418e+00,  3.13323584e+00,\n",
       "          3.59534701e+00,  3.94062748e+00,  3.94137200e+00,  4.44155813e+00,\n",
       "          4.94099974e+00,  5.13323584e+00,  5.32584421e+00,  5.59534701e+00,\n",
       "          5.59534701e+00,  6.09516088e+00,  6.47888857e+00,  6.55652753e+00,\n",
       "          6.67112467e+00,  6.67112467e+00,  7.13323584e+00,  7.17205532e+00,\n",
       "          8.01789418e+00,  8.13360810e+00,  8.17131080e+00,  8.97981922e+00,\n",
       "          9.17168306e+00,  9.17205532e+00,  9.36429143e+00,  9.55652753e+00,\n",
       "          9.55652753e+00,  9.74876363e+00,  9.74876363e+00,  1.01339804e+01,\n",
       "          1.05568998e+01,  1.07099442e+01,  1.10175219e+01,  1.10944164e+01,\n",
       "          1.10951609e+01,  1.12866525e+01,  1.12870247e+01,  1.14788886e+01,\n",
       "          1.14788886e+01,  1.14796331e+01,  1.15572720e+01,  1.16718692e+01,\n",
       "          1.18641053e+01,  1.20563414e+01,  1.22478330e+01,  1.22489498e+01,\n",
       "          1.29413720e+01,  1.30175219e+01,  1.30186387e+01,  1.32108748e+01,\n",
       "          1.35949748e+01,  1.37872109e+01,  1.37872109e+01,  1.46337942e+01,\n",
       "          1.53254719e+01,  1.57103164e+01,  1.59029248e+01,  1.60944164e+01,\n",
       "          1.60944164e+01,  1.60951609e+01,  1.62866525e+01,  1.62866525e+01,\n",
       "          1.62873970e+01,  1.62873970e+01,  1.63646637e+01,  1.67875831e+01,\n",
       "          1.78245413e+01,  1.78252858e+01,  1.80175219e+01,  1.85957193e+01,\n",
       "          1.91720553e+01,  1.93639192e+01,  2.00186387e+01,  2.03254719e+01,\n",
       "          2.05953470e+01,  2.07099442e+01,  2.10944164e+01,  2.10944164e+01,\n",
       "          2.10944164e+01,  2.11713108e+01,  2.16711247e+01,  2.19805637e+01,\n",
       "          2.22493220e+01,  2.25177080e+01,  2.25568998e+01,  2.27110609e+01,\n",
       "          2.28252858e+01,  2.30175219e+01,  2.35953470e+01,  2.37875831e+01,\n",
       "          2.39021803e+01,  2.40944164e+01,  2.41716831e+01,  2.55946025e+01,\n",
       "          2.57095719e+01,  2.57099442e+01,  2.59021803e+01,  2.59021803e+01,\n",
       "          2.60186387e+01,  2.60574582e+01,  2.64788886e+01,  2.64788886e+01,\n",
       "          2.66711247e+01,  2.66718692e+01,  2.67875831e+01,  2.68633608e+01,\n",
       "          2.72485775e+01,  2.89021803e+01,  2.89798192e+01,  2.90944164e+01,\n",
       "          2.91720553e+01,  2.93646637e+01,  3.07099442e+01,  3.07099442e+01,\n",
       "          3.07099442e+01,  3.09021803e+01,  3.10178942e+01,  3.14788886e+01,\n",
       "          3.16711247e+01,  3.18633608e+01,  3.28249136e+01,  3.32866525e+01,\n",
       "          3.37875831e+01,  3.45177080e+01,  3.46345388e+01,  3.55177080e+01,\n",
       "          3.55177080e+01,  3.55177080e+01,  3.57106887e+01,  3.59021803e+01,\n",
       "          3.59029248e+01,  3.64788886e+01,  3.64788886e+01,  3.66711247e+01,\n",
       "          3.84027386e+01,  3.87875831e+01,  3.87875831e+01,  3.99406275e+01,\n",
       "          3.99409997e+01,  3.99409997e+01,  4.02478330e+01,  4.10944164e+01,\n",
       "          4.24404413e+01,  4.28245413e+01,  4.43639192e+01,  4.46726137e+01,\n",
       "          4.51332358e+01,  4.60944164e+01,  4.62866525e+01,  4.95572720e+01,\n",
       "          5.26323052e+01,  5.34019941e+01,  5.46711247e+01,  5.55576443e+01,\n",
       "          5.62866525e+01,  5.80186387e+01,  5.98633608e+01,  6.68633608e+01,\n",
       "          6.72478330e+01,  6.72478330e+01,  6.74400691e+01,  7.68633608e+01,\n",
       "          8.59021803e+01,  9.03254719e+01,  9.57099442e+01,  1.16979819e+02])),\n",
       " (27.755923024088123, -9.588272269646297e-15, 0.9902225277909312))"
      ]
     },
     "execution_count": 63,
     "metadata": {},
     "output_type": "execute_result"
    },
    {
     "data": {
      "image/png": "[encoded data removed]",
      "text/plain": [
       "<Figure size 576x576 with 1 Axes>"
      ]
     },
     "metadata": {},
     "output_type": "display_data"
    }
   ],
   "source": [
    "plt.figure(figsize=(8,8))\n",
    "\n",
    "stats.probplot(residuals4, dist=\"norm\", plot=plt)"
   ]
  },
  {
   "cell_type": "code",
   "execution_count": 64,
   "metadata": {},
   "outputs": [],
   "source": [
    "# When residuals are normally distributed, they tend to lie along the straight line on the Q-Q plot.\n",
    "# In this case residuals appear to follow a nice linear pattern\n",
    "# After making model predictions, it is useful to calculate root-mean-squared-error. \n",
    "# Root mean squared error (RMSE) is a common evaluation metric for predictions involving real numbers. \n",
    "# Root mean squared error is square root of the average of the squared error (residuals.). \n",
    "# Lower values of RMSE means a better fit"
   ]
  },
  {
   "cell_type": "code",
   "execution_count": 65,
   "metadata": {},
   "outputs": [
    {
     "data": {
      "text/plain": [
       "27.854152245536028"
      ]
     },
     "execution_count": 65,
     "metadata": {},
     "output_type": "execute_result"
    }
   ],
   "source": [
    "def rmse(predicted, targets):\n",
    "    \"\"\"\n",
    "    Computes root mean squared error of two numpy ndarrays\n",
    "    \n",
    "    Args:\n",
    "        predicted: an ndarray of predictions\n",
    "        targets: an ndarray of target values\n",
    "    \n",
    "    Returns:\n",
    "        The root mean squared error as a float\n",
    "    \"\"\"\n",
    "    return (np.sqrt(np.mean((targets-predicted)**2)))\n",
    "\n",
    "rmse(train_prediction4, df2[\"horsepower\"])"
   ]
  },
  {
   "cell_type": "code",
   "execution_count": 66,
   "metadata": {},
   "outputs": [],
   "source": [
    "# In order to choose which feature to select to predict the missing values of \"horsepower\", we should compare the RMSE values for\n",
    "# \"mpg\", \"displacement\", \"weight\" and \"acceleration\".\n",
    "# RMSE for \"mpg\" = 24.13\n",
    "# RMSE for \"displacement\" = 16.97\n",
    "# RMSE for \"weight\" = 19.32\n",
    "# RMSE for \"acceleration\" = 27.8\n",
    "\n",
    "# We know that the lower the RMSE value, the better we are close to the actual value (a better fit)\n",
    "# So, we pick \"displacement\" values in order to predict missing \"horsepower\" values"
   ]
  },
  {
   "cell_type": "code",
   "execution_count": 67,
   "metadata": {},
   "outputs": [],
   "source": [
    "def predict_horse_power(displacement, horsepower):\n",
    "    horsepower = 40.3061 + (0.33 * displacement)\n",
    "    "
   ]
  },
  {
   "cell_type": "code",
   "execution_count": null,
   "metadata": {},
   "outputs": [],
   "source": []
  },
  {
   "cell_type": "code",
   "execution_count": null,
   "metadata": {},
   "outputs": [],
   "source": []
  },
  {
   "cell_type": "code",
   "execution_count": null,
   "metadata": {},
   "outputs": [],
   "source": []
  },
  {
   "cell_type": "code",
   "execution_count": null,
   "metadata": {},
   "outputs": [],
   "source": []
  },
  {
   "cell_type": "code",
   "execution_count": null,
   "metadata": {},
   "outputs": [],
   "source": []
  },
  {
   "cell_type": "code",
   "execution_count": null,
   "metadata": {},
   "outputs": [],
   "source": []
  },
  {
   "cell_type": "code",
   "execution_count": null,
   "metadata": {},
   "outputs": [],
   "source": []
  }
 ],
 "metadata": {
  "kernelspec": {
   "display_name": "Python 3",
   "language": "python",
   "name": "python3"
  },
  "language_info": {
   "codemirror_mode": {
    "name": "ipython",
    "version": 3
   },
   "file_extension": ".py",
   "mimetype": "text/x-python",
   "name": "python",
   "nbconvert_exporter": "python",
   "pygments_lexer": "ipython3",
   "version": "3.6.5"
  }
 },
 "nbformat": 4,
 "nbformat_minor": 2
}
